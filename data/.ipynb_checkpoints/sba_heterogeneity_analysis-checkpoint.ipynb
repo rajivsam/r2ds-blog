{
 "cells": [
  {
   "cell_type": "code",
   "execution_count": 1,
   "id": "11be6ff9",
   "metadata": {},
   "outputs": [
    {
     "name": "stderr",
     "output_type": "stream",
     "text": [
      "/var/folders/fb/t_m5qpcj6qq85rvkh73vbxh40000gn/T/ipykernel_44700/3705498770.py:3: DtypeWarning: Columns (34,35,39) have mixed types. Specify dtype option on import or set low_memory=False.\n",
      "  df = pd.read_csv(fp)\n"
     ]
    }
   ],
   "source": [
    "import pandas as pd\n",
    "fp = \"../data/sba_7a_loans.csv\"\n",
    "df = pd.read_csv(fp)"
   ]
  },
  {
   "cell_type": "code",
   "execution_count": 2,
   "id": "74505033",
   "metadata": {},
   "outputs": [],
   "source": [
    "subset_cols = [\"BorrName\", \"BankFDICNumber\", \"BankZip\", \"BorrZip\", \"NaicsCode\", \"FranchiseCode\",\\\n",
    "               \"BusinessAge\", \"LoanStatus\", \"SBAGuaranteedApproval\"]\n",
    "df = df[subset_cols]"
   ]
  },
  {
   "cell_type": "code",
   "execution_count": 3,
   "id": "8039cf95",
   "metadata": {},
   "outputs": [],
   "source": [
    "filter_PIF = (df.LoanStatus == \"PIF\")\n",
    "filter_CHGOFF = (df.LoanStatus == \"CHGOFF\")\n",
    "filter_criteria = filter_PIF | filter_CHGOFF\n",
    "df = df[filter_criteria].reset_index(drop=True)"
   ]
  },
  {
   "cell_type": "code",
   "execution_count": 4,
   "id": "06a747b1",
   "metadata": {},
   "outputs": [
    {
     "data": {
      "text/html": [
       "<div>\n",
       "<style scoped>\n",
       "    .dataframe tbody tr th:only-of-type {\n",
       "        vertical-align: middle;\n",
       "    }\n",
       "\n",
       "    .dataframe tbody tr th {\n",
       "        vertical-align: top;\n",
       "    }\n",
       "\n",
       "    .dataframe thead th {\n",
       "        text-align: right;\n",
       "    }\n",
       "</style>\n",
       "<table border=\"1\" class=\"dataframe\">\n",
       "  <thead>\n",
       "    <tr style=\"text-align: right;\">\n",
       "      <th></th>\n",
       "      <th>Attribute</th>\n",
       "      <th>Missing Value Count</th>\n",
       "    </tr>\n",
       "  </thead>\n",
       "  <tbody>\n",
       "    <tr>\n",
       "      <th>0</th>\n",
       "      <td>BankFDICNumber</td>\n",
       "      <td>2122</td>\n",
       "    </tr>\n",
       "    <tr>\n",
       "      <th>1</th>\n",
       "      <td>FranchiseCode</td>\n",
       "      <td>19923</td>\n",
       "    </tr>\n",
       "    <tr>\n",
       "      <th>2</th>\n",
       "      <td>BusinessAge</td>\n",
       "      <td>53</td>\n",
       "    </tr>\n",
       "  </tbody>\n",
       "</table>\n",
       "</div>"
      ],
      "text/plain": [
       "        Attribute  Missing Value Count\n",
       "0  BankFDICNumber                 2122\n",
       "1   FranchiseCode                19923\n",
       "2     BusinessAge                   53"
      ]
     },
     "execution_count": 4,
     "metadata": {},
     "output_type": "execute_result"
    }
   ],
   "source": [
    "df_missing_vals = pd.DataFrame.from_dict({c:df[c].isnull().sum() for c in subset_cols if df[c].isnull().sum() > 0},\\\n",
    "                                         orient=\"index\").reset_index()\n",
    "df_missing_vals.columns = [\"Attribute\", \"Missing Value Count\"]\n",
    "df_missing_vals"
   ]
  },
  {
   "cell_type": "code",
   "execution_count": 5,
   "id": "9bbbb103",
   "metadata": {},
   "outputs": [],
   "source": [
    "for a in df_missing_vals[\"Attribute\"]:\n",
    "    df[a] = df[a].fillna(\"Not Applicable\")"
   ]
  },
  {
   "cell_type": "code",
   "execution_count": 6,
   "id": "c8a01690",
   "metadata": {},
   "outputs": [
    {
     "data": {
      "text/plain": [
       "{}"
      ]
     },
     "execution_count": 6,
     "metadata": {},
     "output_type": "execute_result"
    }
   ],
   "source": [
    "{c:df[c].isnull().sum() for c in subset_cols if df[c].isnull().sum() > 0}"
   ]
  },
  {
   "cell_type": "code",
   "execution_count": 7,
   "id": "82283906",
   "metadata": {},
   "outputs": [],
   "source": [
    "df[\"BankFDICNumber\"] = df[\"BankFDICNumber\"].apply(lambda x: x if x == \"Not Applicable\" else int(x))\n",
    "df[\"NaicsCode\"] = df[\"NaicsCode\"].apply(lambda x: x if x == \"Not Applicable\" else int(x))\n",
    "dtypes_toset = {\"BorrZip\": 'str', \"BankZip\": \"str\", \"BankFDICNumber\": 'str',\\\n",
    "                \"NaicsCode\": 'str', \"FranchiseCode\": 'str', \\\n",
    "                \"BusinessAge\" : 'str', \"LoanStatus\": 'str', \"SBAGuaranteedApproval\" : float}\n",
    "df = df.astype(dtypes_toset)"
   ]
  },
  {
   "cell_type": "code",
   "execution_count": 8,
   "id": "68f125cd",
   "metadata": {},
   "outputs": [
    {
     "data": {
      "text/html": [
       "<div>\n",
       "<style scoped>\n",
       "    .dataframe tbody tr th:only-of-type {\n",
       "        vertical-align: middle;\n",
       "    }\n",
       "\n",
       "    .dataframe tbody tr th {\n",
       "        vertical-align: top;\n",
       "    }\n",
       "\n",
       "    .dataframe thead th {\n",
       "        text-align: right;\n",
       "    }\n",
       "</style>\n",
       "<table border=\"1\" class=\"dataframe\">\n",
       "  <thead>\n",
       "    <tr style=\"text-align: right;\">\n",
       "      <th></th>\n",
       "      <th>BorrName</th>\n",
       "      <th>BankFDICNumber</th>\n",
       "      <th>BankZip</th>\n",
       "      <th>BorrZip</th>\n",
       "      <th>NaicsCode</th>\n",
       "      <th>FranchiseCode</th>\n",
       "      <th>BusinessAge</th>\n",
       "      <th>LoanStatus</th>\n",
       "      <th>SBAGuaranteedApproval</th>\n",
       "    </tr>\n",
       "  </thead>\n",
       "  <tbody>\n",
       "    <tr>\n",
       "      <th>0</th>\n",
       "      <td>Allen Foot and Ankle Medicine</td>\n",
       "      <td>57512</td>\n",
       "      <td>85004</td>\n",
       "      <td>85212</td>\n",
       "      <td>621391</td>\n",
       "      <td>Not Applicable</td>\n",
       "      <td>Existing or more than 2 years old</td>\n",
       "      <td>PIF</td>\n",
       "      <td>175000.0</td>\n",
       "    </tr>\n",
       "    <tr>\n",
       "      <th>1</th>\n",
       "      <td>Town Cleaners</td>\n",
       "      <td>24170</td>\n",
       "      <td>90010</td>\n",
       "      <td>22201</td>\n",
       "      <td>812320</td>\n",
       "      <td>Not Applicable</td>\n",
       "      <td>Existing or more than 2 years old</td>\n",
       "      <td>CHGOFF</td>\n",
       "      <td>11000.0</td>\n",
       "    </tr>\n",
       "    <tr>\n",
       "      <th>2</th>\n",
       "      <td>Moor Inc.</td>\n",
       "      <td>628</td>\n",
       "      <td>43240</td>\n",
       "      <td>94061</td>\n",
       "      <td>445110</td>\n",
       "      <td>Not Applicable</td>\n",
       "      <td>Existing or more than 2 years old</td>\n",
       "      <td>PIF</td>\n",
       "      <td>24500.0</td>\n",
       "    </tr>\n",
       "    <tr>\n",
       "      <th>3</th>\n",
       "      <td>Mimo Lash And Skin LLC</td>\n",
       "      <td>26610</td>\n",
       "      <td>90010</td>\n",
       "      <td>7030</td>\n",
       "      <td>812199</td>\n",
       "      <td>Not Applicable</td>\n",
       "      <td>Existing or more than 2 years old</td>\n",
       "      <td>PIF</td>\n",
       "      <td>28500.0</td>\n",
       "    </tr>\n",
       "    <tr>\n",
       "      <th>4</th>\n",
       "      <td>Moor Inc.</td>\n",
       "      <td>628</td>\n",
       "      <td>43240</td>\n",
       "      <td>94061</td>\n",
       "      <td>445110</td>\n",
       "      <td>Not Applicable</td>\n",
       "      <td>Existing or more than 2 years old</td>\n",
       "      <td>PIF</td>\n",
       "      <td>50500.0</td>\n",
       "    </tr>\n",
       "    <tr>\n",
       "      <th>...</th>\n",
       "      <td>...</td>\n",
       "      <td>...</td>\n",
       "      <td>...</td>\n",
       "      <td>...</td>\n",
       "      <td>...</td>\n",
       "      <td>...</td>\n",
       "      <td>...</td>\n",
       "      <td>...</td>\n",
       "      <td>...</td>\n",
       "    </tr>\n",
       "    <tr>\n",
       "      <th>22956</th>\n",
       "      <td>JK Freight LLC</td>\n",
       "      <td>6560</td>\n",
       "      <td>43215</td>\n",
       "      <td>46239</td>\n",
       "      <td>484121</td>\n",
       "      <td>Not Applicable</td>\n",
       "      <td>New Business or 2 years or less</td>\n",
       "      <td>PIF</td>\n",
       "      <td>12500.0</td>\n",
       "    </tr>\n",
       "    <tr>\n",
       "      <th>22957</th>\n",
       "      <td>Muirhead Group LLC</td>\n",
       "      <td>12633</td>\n",
       "      <td>65101</td>\n",
       "      <td>65255</td>\n",
       "      <td>722513</td>\n",
       "      <td>Not Applicable</td>\n",
       "      <td>Existing or more than 2 years old</td>\n",
       "      <td>PIF</td>\n",
       "      <td>38900.0</td>\n",
       "    </tr>\n",
       "    <tr>\n",
       "      <th>22958</th>\n",
       "      <td>JP ELECTRICAL CONTRACTOR</td>\n",
       "      <td>34968</td>\n",
       "      <td>918</td>\n",
       "      <td>674</td>\n",
       "      <td>238390</td>\n",
       "      <td>Not Applicable</td>\n",
       "      <td>Existing or more than 2 years old</td>\n",
       "      <td>PIF</td>\n",
       "      <td>25000.0</td>\n",
       "    </tr>\n",
       "    <tr>\n",
       "      <th>22959</th>\n",
       "      <td>ANOUSHEH ASHOURI INC.</td>\n",
       "      <td>Not Applicable</td>\n",
       "      <td>7922</td>\n",
       "      <td>92618</td>\n",
       "      <td>621111</td>\n",
       "      <td>Not Applicable</td>\n",
       "      <td>Existing or more than 2 years old</td>\n",
       "      <td>PIF</td>\n",
       "      <td>22500.0</td>\n",
       "    </tr>\n",
       "    <tr>\n",
       "      <th>22960</th>\n",
       "      <td>Fur Fluffs Sake LLC</td>\n",
       "      <td>Not Applicable</td>\n",
       "      <td>1752</td>\n",
       "      <td>1752</td>\n",
       "      <td>812910</td>\n",
       "      <td>Not Applicable</td>\n",
       "      <td>New Business or 2 years or less</td>\n",
       "      <td>PIF</td>\n",
       "      <td>31450.0</td>\n",
       "    </tr>\n",
       "  </tbody>\n",
       "</table>\n",
       "<p>22961 rows × 9 columns</p>\n",
       "</div>"
      ],
      "text/plain": [
       "                            BorrName  BankFDICNumber BankZip BorrZip  \\\n",
       "0      Allen Foot and Ankle Medicine           57512   85004   85212   \n",
       "1                      Town Cleaners           24170   90010   22201   \n",
       "2                          Moor Inc.             628   43240   94061   \n",
       "3             Mimo Lash And Skin LLC           26610   90010    7030   \n",
       "4                          Moor Inc.             628   43240   94061   \n",
       "...                              ...             ...     ...     ...   \n",
       "22956                 JK Freight LLC            6560   43215   46239   \n",
       "22957             Muirhead Group LLC           12633   65101   65255   \n",
       "22958       JP ELECTRICAL CONTRACTOR           34968     918     674   \n",
       "22959          ANOUSHEH ASHOURI INC.  Not Applicable    7922   92618   \n",
       "22960            Fur Fluffs Sake LLC  Not Applicable    1752    1752   \n",
       "\n",
       "      NaicsCode   FranchiseCode                        BusinessAge LoanStatus  \\\n",
       "0        621391  Not Applicable  Existing or more than 2 years old        PIF   \n",
       "1        812320  Not Applicable  Existing or more than 2 years old     CHGOFF   \n",
       "2        445110  Not Applicable  Existing or more than 2 years old        PIF   \n",
       "3        812199  Not Applicable  Existing or more than 2 years old        PIF   \n",
       "4        445110  Not Applicable  Existing or more than 2 years old        PIF   \n",
       "...         ...             ...                                ...        ...   \n",
       "22956    484121  Not Applicable    New Business or 2 years or less        PIF   \n",
       "22957    722513  Not Applicable  Existing or more than 2 years old        PIF   \n",
       "22958    238390  Not Applicable  Existing or more than 2 years old        PIF   \n",
       "22959    621111  Not Applicable  Existing or more than 2 years old        PIF   \n",
       "22960    812910  Not Applicable    New Business or 2 years or less        PIF   \n",
       "\n",
       "       SBAGuaranteedApproval  \n",
       "0                   175000.0  \n",
       "1                    11000.0  \n",
       "2                    24500.0  \n",
       "3                    28500.0  \n",
       "4                    50500.0  \n",
       "...                      ...  \n",
       "22956                12500.0  \n",
       "22957                38900.0  \n",
       "22958                25000.0  \n",
       "22959                22500.0  \n",
       "22960                31450.0  \n",
       "\n",
       "[22961 rows x 9 columns]"
      ]
     },
     "execution_count": 8,
     "metadata": {},
     "output_type": "execute_result"
    }
   ],
   "source": [
    "df"
   ]
  },
  {
   "cell_type": "code",
   "execution_count": 9,
   "id": "d891d389",
   "metadata": {},
   "outputs": [],
   "source": [
    "gb = df.groupby([\"NaicsCode\", \"LoanStatus\"], as_index=False)"
   ]
  },
  {
   "cell_type": "code",
   "execution_count": 10,
   "id": "8f41982c",
   "metadata": {},
   "outputs": [],
   "source": [
    "dfnaics_summ = gb.size()"
   ]
  },
  {
   "cell_type": "code",
   "execution_count": 11,
   "id": "63fe7d9b",
   "metadata": {},
   "outputs": [],
   "source": [
    "dfnaics_summ = dfnaics_summ.sort_values(by=[\"NaicsCode\"])"
   ]
  },
  {
   "cell_type": "code",
   "execution_count": 12,
   "id": "a6604f92",
   "metadata": {},
   "outputs": [],
   "source": [
    "#dfnaics_summ[(dfnaics_summ[\"NaicsCode\"].value_counts() == 1)]"
   ]
  },
  {
   "cell_type": "code",
   "execution_count": 13,
   "id": "98a53191",
   "metadata": {},
   "outputs": [],
   "source": [
    "naics_filter = (dfnaics_summ[\"NaicsCode\"].value_counts() == 1)"
   ]
  },
  {
   "cell_type": "code",
   "execution_count": 14,
   "id": "b30f7211",
   "metadata": {},
   "outputs": [],
   "source": [
    "dfnaics_vc = dfnaics_summ[\"NaicsCode\"].value_counts().reset_index()"
   ]
  },
  {
   "cell_type": "code",
   "execution_count": 15,
   "id": "43946102",
   "metadata": {},
   "outputs": [],
   "source": [
    "dfnaics_vc.columns = [\"NaicsCode\", \"LoanStatusCard\"]"
   ]
  },
  {
   "cell_type": "code",
   "execution_count": 16,
   "id": "5bc132a4",
   "metadata": {},
   "outputs": [],
   "source": [
    "filter_ss_naics_codes = (dfnaics_vc.LoanStatusCard == 1)\n",
    "ss_naics_codes = dfnaics_vc[filter_ss_naics_codes][\"NaicsCode\"]"
   ]
  },
  {
   "cell_type": "code",
   "execution_count": 17,
   "id": "c695d433",
   "metadata": {},
   "outputs": [
    {
     "data": {
      "text/html": [
       "<div>\n",
       "<style scoped>\n",
       "    .dataframe tbody tr th:only-of-type {\n",
       "        vertical-align: middle;\n",
       "    }\n",
       "\n",
       "    .dataframe tbody tr th {\n",
       "        vertical-align: top;\n",
       "    }\n",
       "\n",
       "    .dataframe thead th {\n",
       "        text-align: right;\n",
       "    }\n",
       "</style>\n",
       "<table border=\"1\" class=\"dataframe\">\n",
       "  <thead>\n",
       "    <tr style=\"text-align: right;\">\n",
       "      <th></th>\n",
       "      <th>NaicsCode</th>\n",
       "      <th>LoanStatusCard</th>\n",
       "    </tr>\n",
       "  </thead>\n",
       "  <tbody>\n",
       "    <tr>\n",
       "      <th>0</th>\n",
       "      <td>442291</td>\n",
       "      <td>2</td>\n",
       "    </tr>\n",
       "    <tr>\n",
       "      <th>1</th>\n",
       "      <td>541370</td>\n",
       "      <td>2</td>\n",
       "    </tr>\n",
       "    <tr>\n",
       "      <th>2</th>\n",
       "      <td>532310</td>\n",
       "      <td>2</td>\n",
       "    </tr>\n",
       "    <tr>\n",
       "      <th>3</th>\n",
       "      <td>532490</td>\n",
       "      <td>2</td>\n",
       "    </tr>\n",
       "    <tr>\n",
       "      <th>4</th>\n",
       "      <td>541110</td>\n",
       "      <td>2</td>\n",
       "    </tr>\n",
       "    <tr>\n",
       "      <th>...</th>\n",
       "      <td>...</td>\n",
       "      <td>...</td>\n",
       "    </tr>\n",
       "    <tr>\n",
       "      <th>272</th>\n",
       "      <td>611699</td>\n",
       "      <td>2</td>\n",
       "    </tr>\n",
       "    <tr>\n",
       "      <th>273</th>\n",
       "      <td>621310</td>\n",
       "      <td>2</td>\n",
       "    </tr>\n",
       "    <tr>\n",
       "      <th>274</th>\n",
       "      <td>611691</td>\n",
       "      <td>2</td>\n",
       "    </tr>\n",
       "    <tr>\n",
       "      <th>275</th>\n",
       "      <td>321999</td>\n",
       "      <td>2</td>\n",
       "    </tr>\n",
       "    <tr>\n",
       "      <th>276</th>\n",
       "      <td>621999</td>\n",
       "      <td>2</td>\n",
       "    </tr>\n",
       "  </tbody>\n",
       "</table>\n",
       "<p>277 rows × 2 columns</p>\n",
       "</div>"
      ],
      "text/plain": [
       "    NaicsCode  LoanStatusCard\n",
       "0      442291               2\n",
       "1      541370               2\n",
       "2      532310               2\n",
       "3      532490               2\n",
       "4      541110               2\n",
       "..        ...             ...\n",
       "272    611699               2\n",
       "273    621310               2\n",
       "274    611691               2\n",
       "275    321999               2\n",
       "276    621999               2\n",
       "\n",
       "[277 rows x 2 columns]"
      ]
     },
     "execution_count": 17,
     "metadata": {},
     "output_type": "execute_result"
    }
   ],
   "source": [
    "dfnaics_vc[~filter_ss_naics_codes]"
   ]
  },
  {
   "cell_type": "code",
   "execution_count": 18,
   "id": "e14ed760",
   "metadata": {},
   "outputs": [
    {
     "data": {
      "text/plain": [
       "PIF       4757\n",
       "CHGOFF       8\n",
       "Name: LoanStatus, dtype: int64"
      ]
     },
     "execution_count": 18,
     "metadata": {},
     "output_type": "execute_result"
    }
   ],
   "source": [
    "df[df[\"NaicsCode\"].isin(ss_naics_codes)][\"LoanStatus\"].value_counts()"
   ]
  },
  {
   "cell_type": "code",
   "execution_count": 19,
   "id": "e64717d2",
   "metadata": {},
   "outputs": [
    {
     "data": {
      "text/plain": [
       "447110    250\n",
       "531130    144\n",
       "722410    124\n",
       "623312     92\n",
       "541512     90\n",
       "         ... \n",
       "111419      1\n",
       "336411      1\n",
       "561591      1\n",
       "111140      1\n",
       "459120      1\n",
       "Name: NaicsCode, Length: 583, dtype: int64"
      ]
     },
     "execution_count": 19,
     "metadata": {},
     "output_type": "execute_result"
    }
   ],
   "source": [
    "df[df[\"NaicsCode\"].isin(ss_naics_codes)][\"NaicsCode\"].value_counts()"
   ]
  },
  {
   "cell_type": "code",
   "execution_count": 20,
   "id": "5380902a",
   "metadata": {},
   "outputs": [],
   "source": [
    "gb = df.groupby([\"BankZip\", \"LoanStatus\"], as_index=False)"
   ]
  },
  {
   "cell_type": "code",
   "execution_count": 21,
   "id": "dcff9bf6",
   "metadata": {},
   "outputs": [],
   "source": [
    "dfbank_zip_summ = gb.size()\n",
    "dfbank_zip_summ = dfbank_zip_summ.sort_values(by=[\"BankZip\"])"
   ]
  },
  {
   "cell_type": "code",
   "execution_count": 22,
   "id": "690ad08c",
   "metadata": {},
   "outputs": [],
   "source": [
    "bankzip_filter = (dfbank_zip_summ[\"BankZip\"].value_counts() == 1)"
   ]
  },
  {
   "cell_type": "code",
   "execution_count": 23,
   "id": "5f0e29be",
   "metadata": {},
   "outputs": [],
   "source": [
    "dfbank_zip_vc = dfbank_zip_summ[\"BankZip\"].value_counts().reset_index()\n",
    "dfbank_zip_vc.columns = [\"BankZip\", \"LoanStatusCard\"]\n",
    "filter_ss_bankzip = (dfbank_zip_vc.LoanStatusCard == 1)\n",
    "ss_bankzip_codes = dfbank_zip_vc[filter_ss_bankzip][\"BankZip\"]"
   ]
  },
  {
   "cell_type": "code",
   "execution_count": 24,
   "id": "b3d8f1b1",
   "metadata": {},
   "outputs": [
    {
     "data": {
      "text/plain": [
       "PIF       8300\n",
       "CHGOFF       9\n",
       "Name: LoanStatus, dtype: int64"
      ]
     },
     "execution_count": 24,
     "metadata": {},
     "output_type": "execute_result"
    }
   ],
   "source": [
    "df[df[\"BankZip\"].isin(ss_bankzip_codes)][\"LoanStatus\"].value_counts()"
   ]
  },
  {
   "cell_type": "code",
   "execution_count": 32,
   "id": "5ee3e79c",
   "metadata": {},
   "outputs": [],
   "source": [
    "df_trim = df[df[\"BankZip\"].isin(ss_bankzip_codes)].index.union(df[df[\"NaicsCode\"].isin(ss_naics_codes)].index)"
   ]
  },
  {
   "cell_type": "code",
   "execution_count": 33,
   "id": "db54537d",
   "metadata": {},
   "outputs": [
    {
     "data": {
      "text/plain": [
       "(10909,)"
      ]
     },
     "execution_count": 33,
     "metadata": {},
     "output_type": "execute_result"
    }
   ],
   "source": [
    "df_trim.shape"
   ]
  },
  {
   "cell_type": "code",
   "execution_count": 34,
   "id": "3c58f43e",
   "metadata": {},
   "outputs": [],
   "source": [
    "gb = df.groupby([\"BorrZip\", \"LoanStatus\"], as_index=False)\n",
    "dfborr_zip_summ = gb.size()\n",
    "dfborr_zip_summ = dfborr_zip_summ.sort_values(by=[\"BorrZip\"])"
   ]
  },
  {
   "cell_type": "code",
   "execution_count": 35,
   "id": "a863c6e2",
   "metadata": {},
   "outputs": [],
   "source": [
    "borrzip_filter = (dfborr_zip_summ[\"BorrZip\"].value_counts() == 1)"
   ]
  },
  {
   "cell_type": "code",
   "execution_count": 37,
   "id": "54522931",
   "metadata": {},
   "outputs": [],
   "source": [
    "dfborr_zip_vc = dfborr_zip_summ[\"BorrZip\"].value_counts().reset_index()\n",
    "dfborr_zip_vc.columns = [\"BorrZip\", \"LoanStatusCard\"]\n",
    "filter_ss_borrzip = (dfborr_zip_vc.LoanStatusCard == 1)\n",
    "ss_borrzip_codes = dfborr_zip_vc[filter_ss_borrzip][\"BorrZip\"]"
   ]
  },
  {
   "cell_type": "code",
   "execution_count": 38,
   "id": "f100a714",
   "metadata": {},
   "outputs": [
    {
     "data": {
      "text/plain": [
       "PIF       19549\n",
       "CHGOFF      250\n",
       "Name: LoanStatus, dtype: int64"
      ]
     },
     "execution_count": 38,
     "metadata": {},
     "output_type": "execute_result"
    }
   ],
   "source": [
    "df[df[\"BorrZip\"].isin(ss_borrzip_codes)][\"LoanStatus\"].value_counts()"
   ]
  }
 ],
 "metadata": {
  "kernelspec": {
   "display_name": "Python 3 (ipykernel)",
   "language": "python",
   "name": "python3"
  },
  "language_info": {
   "codemirror_mode": {
    "name": "ipython",
    "version": 3
   },
   "file_extension": ".py",
   "mimetype": "text/x-python",
   "name": "python",
   "nbconvert_exporter": "python",
   "pygments_lexer": "ipython3",
   "version": "3.9.13"
  }
 },
 "nbformat": 4,
 "nbformat_minor": 5
}
