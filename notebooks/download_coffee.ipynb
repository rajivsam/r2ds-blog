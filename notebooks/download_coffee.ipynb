{
 "cells": [
  {
   "cell_type": "code",
   "execution_count": 1,
   "id": "6f6ce698-6648-4c4a-b34f-6ae8d0aead16",
   "metadata": {},
   "outputs": [],
   "source": [
    "import fredapi as fa"
   ]
  },
  {
   "cell_type": "code",
   "execution_count": 2,
   "id": "c10f2042-15a1-4156-a550-68ff04793944",
   "metadata": {},
   "outputs": [],
   "source": [
    "from dotenv import dotenv_values\n",
    "\n",
    "config = dotenv_values(\".env\")"
   ]
  },
  {
   "cell_type": "code",
   "execution_count": 3,
   "id": "d97a984e-94b8-4392-8221-a50a557cba6a",
   "metadata": {},
   "outputs": [],
   "source": [
    "import pandas as pd\n",
    "fred = fa.Fred(config[\"FRED_API_KEY\"])"
   ]
  },
  {
   "cell_type": "code",
   "execution_count": 4,
   "id": "2eb8dc22-8c5c-49be-a76b-7e86c7f48da4",
   "metadata": {},
   "outputs": [],
   "source": [
    "cp = fred.get_series(\"PCOFFOTMUSDM\")"
   ]
  },
  {
   "cell_type": "code",
   "execution_count": 5,
   "id": "09ad8d59-bd93-4482-9df9-9c46c667ff58",
   "metadata": {},
   "outputs": [],
   "source": [
    "cp = cp.dropna()\n",
    "cp_df = pd.DataFrame({\"date\": cp.index, \"cents_per_lb\": cp.values})\n",
    "cp_df[\"cents_per_lb\"] = cp_df[\"cents_per_lb\"].round(3)"
   ]
  },
  {
   "cell_type": "code",
   "execution_count": 6,
   "id": "0a179adc-be4f-46da-9042-94a18d85183e",
   "metadata": {},
   "outputs": [],
   "source": [
    "cp_df.to_csv(config[\"CP_DATA_FILE\"], index=True)"
   ]
  },
  {
   "cell_type": "code",
   "execution_count": null,
   "id": "857b1115-b6a9-4ff4-8d4b-c50d1dd3efaf",
   "metadata": {},
   "outputs": [],
   "source": []
  }
 ],
 "metadata": {
  "kernelspec": {
   "display_name": "Python 3 (ipykernel)",
   "language": "python",
   "name": "python3"
  },
  "language_info": {
   "codemirror_mode": {
    "name": "ipython",
    "version": 3
   },
   "file_extension": ".py",
   "mimetype": "text/x-python",
   "name": "python",
   "nbconvert_exporter": "python",
   "pygments_lexer": "ipython3",
   "version": "3.12.7"
  }
 },
 "nbformat": 4,
 "nbformat_minor": 5
}
