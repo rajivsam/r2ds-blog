{
 "cells": [
  {
   "cell_type": "code",
   "execution_count": null,
   "id": "ba9c58b2-e2b8-49a6-926b-fa7a9ed264ad",
   "metadata": {},
   "outputs": [],
   "source": [
    "import pandas as pd\n",
    "import numpy as np\n",
    "import matplotlib.pyplot as plt\n",
    "\n",
    "from hmmlearn import hmm"
   ]
  },
  {
   "cell_type": "code",
   "execution_count": null,
   "id": "1cf91713-676f-44ce-a6b7-7e429f787594",
   "metadata": {},
   "outputs": [],
   "source": [
    "fp = \"../data/daily_baugette_sales.csv\"\n",
    "df = pd.read_csv(fp)"
   ]
  },
  {
   "cell_type": "code",
   "execution_count": null,
   "id": "9c87bb8a-e027-485d-9857-5cdf60163db0",
   "metadata": {},
   "outputs": [],
   "source": [
    "CUT_OFF = df.CWOY.max() - 40"
   ]
  },
  {
   "cell_type": "code",
   "execution_count": null,
   "id": "710be28f-cd31-4ebc-8a90-30137b5ea256",
   "metadata": {},
   "outputs": [],
   "source": [
    "select_cut_off = df.CWOY >= CUT_OFF\n",
    "df = df[select_cut_off]"
   ]
  },
  {
   "cell_type": "code",
   "execution_count": null,
   "id": "42bc53ef-b613-4cc9-aade-6177b1e1ba43",
   "metadata": {},
   "outputs": [],
   "source": [
    "cols_needed = [\"datetime\", \"Quantity\"]\n",
    "df = df[cols_needed]"
   ]
  },
  {
   "cell_type": "code",
   "execution_count": null,
   "id": "5afe1ff8-fb7f-4daa-96fb-12caa9cf437f",
   "metadata": {},
   "outputs": [],
   "source": [
    "df[\"Quantity\"].plot.kde()\n",
    "plt.grid(True)"
   ]
  },
  {
   "cell_type": "code",
   "execution_count": null,
   "id": "445feac0-a915-4ad9-8b63-b3fbe6bb6a66",
   "metadata": {},
   "outputs": [],
   "source": [
    "fig = plt.figure()\n",
    "fig.set_size_inches(10, 6, forward=True)\n",
    "fig.subplots_adjust(hspace=0.3, wspace=0.5)\n",
    "\n",
    "plt.subplot(121)\n",
    "df[\"Quantity\"].plot.kde()\n",
    "plt.grid(True)\n",
    "plt.title(\"Daily Baguette Sales - KDE\")\n",
    "plt.subplot(122)\n",
    "plt.title(\"Daily Baguette Sales - Histogram\")\n",
    "df[\"Quantity\"].plot.hist()\n",
    "fig.tight_layout()\n",
    "plt.grid(True)"
   ]
  },
  {
   "cell_type": "code",
   "execution_count": null,
   "id": "01a76028-fdc3-49e1-8d97-02e1f39479ec",
   "metadata": {},
   "outputs": [],
   "source": [
    "fp = \"../data/daily_baguette_last_40_weeks.csv\"\n",
    "df.to_csv(fp, index=True)"
   ]
  },
  {
   "cell_type": "code",
   "execution_count": null,
   "id": "8e50c261-f0fe-4c23-9a8a-70f97d4cc50f",
   "metadata": {},
   "outputs": [],
   "source": [
    "import unicodedata as ud\n",
    "\n",
    "summary_stats = {\"mean\": df.Quantity.mean().round(3), \"var\": df.Quantity.var().round(3)}"
   ]
  },
  {
   "cell_type": "code",
   "execution_count": null,
   "id": "74968d15-725e-4e0c-9e80-c5fe693e2b2b",
   "metadata": {},
   "outputs": [],
   "source": [
    "df_summ_stats = pd.DataFrame.from_dict(summary_stats, orient=\"index\")"
   ]
  },
  {
   "cell_type": "code",
   "execution_count": null,
   "id": "84964e7b-2d24-4bbf-bc60-d50a8aa7fddb",
   "metadata": {},
   "outputs": [],
   "source": [
    "df_summ_stats = df_summ_stats.reset_index()\n",
    "df_summ_stats.columns = [\"Parameter\", \"Value\"]"
   ]
  },
  {
   "cell_type": "code",
   "execution_count": null,
   "id": "d4bbd58c-8109-4f48-8223-59dabb10c6c7",
   "metadata": {},
   "outputs": [],
   "source": [
    "df_summ_stats"
   ]
  },
  {
   "cell_type": "code",
   "execution_count": null,
   "id": "19bf16b2-4a07-4a80-b46e-21a7efe67c21",
   "metadata": {},
   "outputs": [],
   "source": [
    "import numpy as np\n",
    "import scipy.stats as stats"
   ]
  },
  {
   "cell_type": "code",
   "execution_count": null,
   "id": "09559234-9618-4e35-849c-46345ad0de4c",
   "metadata": {},
   "outputs": [],
   "source": [
    "df_fit = df.iloc[:-14,:]"
   ]
  },
  {
   "cell_type": "code",
   "execution_count": null,
   "id": "d2251d5d-d105-4cb2-aa2b-d040d5353bd4",
   "metadata": {},
   "outputs": [],
   "source": [
    "# Fit the gamma distribution\n",
    "params = stats.gamma.fit(df_fit[\"Quantity\"])"
   ]
  },
  {
   "cell_type": "code",
   "execution_count": null,
   "id": "cb8878d0-f1a3-4b05-a7f2-34e0fae7f83a",
   "metadata": {},
   "outputs": [],
   "source": [
    "# Extract the fitted parameters\n",
    "fitted_alpha, fitted_loc, fitted_beta = params"
   ]
  },
  {
   "cell_type": "code",
   "execution_count": null,
   "id": "3f9561af-7d05-4505-bf78-a07cb6fef56b",
   "metadata": {},
   "outputs": [],
   "source": [
    "print(\"Fitted shape parameter (alpha):\", fitted_alpha)\n",
    "print(\"Fitted location parameter (loc):\", fitted_loc)\n",
    "print(\"Fitted scale parameter (beta):\", fitted_beta)"
   ]
  },
  {
   "cell_type": "code",
   "execution_count": null,
   "id": "d813bee8-88fa-44e6-9a4a-a2d0df643b5b",
   "metadata": {},
   "outputs": [],
   "source": [
    "from scipy.stats import nbinom"
   ]
  },
  {
   "cell_type": "markdown",
   "id": "eca555b7-3330-4453-8d82-962e47123141",
   "metadata": {},
   "source": [
    "Check out [this wikipedia link](https://en.wikipedia.org/wiki/Negative_binomial_distribution#Gamma%E2%80%93Poisson_mixture) and then use the fact that $n$ is the shape parameter, and the scale parameter $p = \\frac{p}{(1-p)}$, solve for $p$ which is $\\frac{1}{6.97}$"
   ]
  },
  {
   "cell_type": "code",
   "execution_count": null,
   "id": "821a0e9f-54c0-4642-a6d0-83c7aa2dcf6b",
   "metadata": {},
   "outputs": [],
   "source": [
    "n= 9.42\n",
    "p = 1/6.97\n",
    "NUM_SAMPLES = 2000"
   ]
  },
  {
   "cell_type": "code",
   "execution_count": null,
   "id": "bf0bf98f-7203-4254-b0e8-08ada115adb4",
   "metadata": {},
   "outputs": [],
   "source": [
    "r1 = nbinom.rvs(n,p,size=NUM_SAMPLES)\n",
    "r2 = nbinom.rvs(n,p,size=NUM_SAMPLES)"
   ]
  },
  {
   "cell_type": "code",
   "execution_count": null,
   "id": "31b3b62b-8731-47c6-a905-526b33521abe",
   "metadata": {},
   "outputs": [],
   "source": [
    "df_gen = pd.DataFrame.from_records({\"xi\": r1, \"yi\": r2})"
   ]
  },
  {
   "cell_type": "code",
   "execution_count": null,
   "id": "110f95f8-9483-4058-8584-9f8e057bbd0a",
   "metadata": {},
   "outputs": [],
   "source": [
    "df_gen.columns = [\"xi\", \"yi\"]"
   ]
  },
  {
   "cell_type": "code",
   "execution_count": null,
   "id": "24df9bb9-8094-4d6e-b63f-fe2ca615696c",
   "metadata": {},
   "outputs": [],
   "source": [
    "fp = \"../data/samples_for_stoch_estimation.csv\"\n",
    "df_gen.to_csv(fp, index=False)"
   ]
  },
  {
   "cell_type": "code",
   "execution_count": null,
   "id": "c05ecaf4-dc9c-4933-bf1c-2996bebde413",
   "metadata": {},
   "outputs": [],
   "source": [
    "sample = {\"actual\": df_fit[\"Quantity\"], \"fitted\": nbinom.rvs(n,p,size=df_fit[\"Quantity\"].shape[0])}\n",
    "df_sample = pd.DataFrame.from_records(sample)"
   ]
  },
  {
   "cell_type": "code",
   "execution_count": null,
   "id": "75db03a2-a7f7-4a10-b353-e1c156001b88",
   "metadata": {},
   "outputs": [],
   "source": [
    "fig = plt.figure()\n",
    "fig.set_size_inches(10, 6, forward=True)\n",
    "fig.subplots_adjust(hspace=0.3, wspace=0.5)\n",
    "\n",
    "plt.subplot(121)\n",
    "df_sample[\"actual\"].plot.kde()\n",
    "plt.grid(True)\n",
    "plt.title(\"actual\")\n",
    "plt.subplot(122)\n",
    "plt.title(\"fitted (from samples drawn)\")\n",
    "df_sample[\"fitted\"].plot.kde()\n",
    "fig.tight_layout()\n",
    "plt.grid(True)"
   ]
  },
  {
   "cell_type": "code",
   "execution_count": null,
   "id": "8df8ecc5-0ed3-49d3-9a6f-7fcd6bd3a62c",
   "metadata": {},
   "outputs": [],
   "source": []
  }
 ],
 "metadata": {
  "kernelspec": {
   "display_name": "Python 3 (ipykernel)",
   "language": "python",
   "name": "python3"
  },
  "language_info": {
   "codemirror_mode": {
    "name": "ipython",
    "version": 3
   },
   "file_extension": ".py",
   "mimetype": "text/x-python",
   "name": "python",
   "nbconvert_exporter": "python",
   "pygments_lexer": "ipython3",
   "version": "3.12.7"
  }
 },
 "nbformat": 4,
 "nbformat_minor": 5
}
