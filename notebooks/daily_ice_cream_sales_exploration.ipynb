{
 "cells": [
  {
   "cell_type": "markdown",
   "id": "d60fe9bb",
   "metadata": {},
   "source": [
    "## Analysis Notebook\n",
    "The purpose of this notebook is to analyze the daily sales of ice creams at metro areas in the USA. Subsets corresponding to yearly sales are also profiled. Plots of auto-correlation and maximum daily sales per week are also provided."
   ]
  },
  {
   "cell_type": "code",
   "execution_count": null,
   "id": "e8f753e2",
   "metadata": {},
   "outputs": [],
   "source": [
    "import pandas as pd\n",
    "import numpy as np\n",
    "fp = \"../data/daily_ice_cream_sales.csv\"\n",
    "df = pd.read_csv(fp)\n",
    "df[\"Date\"] = pd.to_datetime(df[\"Date\"])\n",
    "df[\"log_daily_sales\"] = np.log(df[\"ice_cream_purchases\"])"
   ]
  },
  {
   "cell_type": "code",
   "execution_count": null,
   "id": "71d55047-4915-4f3d-9e50-28b6a3d38c9b",
   "metadata": {},
   "outputs": [],
   "source": [
    "df[\"Date\"].max()"
   ]
  },
  {
   "cell_type": "code",
   "execution_count": null,
   "id": "7d6bfb6a-9c5a-40e4-8a87-4741c8488e7b",
   "metadata": {},
   "outputs": [],
   "source": [
    "df[\"Date\"].min()"
   ]
  },
  {
   "cell_type": "code",
   "execution_count": null,
   "id": "89fd5df4-c1ea-4f79-a69c-462ad8908658",
   "metadata": {},
   "outputs": [],
   "source": [
    "import matplotlib.pyplot as plt"
   ]
  },
  {
   "cell_type": "markdown",
   "id": "ff846c75",
   "metadata": {},
   "source": [
    "## Extract yearly data subsets"
   ]
  },
  {
   "cell_type": "code",
   "execution_count": null,
   "id": "f8b3b62a-3629-4195-baf3-f0ec07e9d159",
   "metadata": {},
   "outputs": [],
   "source": [
    "df_2020 = df[df.Date.dt.year == 2020]\n",
    "df_2021 = df[df.Date.dt.year == 2021]\n",
    "df_2022 = df[df.Date.dt.year == 2022]\n",
    "df_2023 = df[df.Date.dt.year == 2023]"
   ]
  },
  {
   "cell_type": "code",
   "execution_count": null,
   "id": "b7bdefa0-2915-4a57-b13d-fa8ef11f2f06",
   "metadata": {},
   "outputs": [],
   "source": [
    "%matplotlib inline\n",
    "import statsmodels.api as sm"
   ]
  },
  {
   "cell_type": "code",
   "execution_count": null,
   "id": "06e362f0-1ae6-4cf8-8e82-4367c7628061",
   "metadata": {},
   "outputs": [],
   "source": [
    "df_2020[\"log_daily_sales\"].plot()"
   ]
  },
  {
   "cell_type": "markdown",
   "id": "19281b3f",
   "metadata": {},
   "source": [
    "## Plot Autocorrelation\n",
    "The auto correlation plots are shown below. "
   ]
  },
  {
   "cell_type": "code",
   "execution_count": null,
   "id": "321d414f",
   "metadata": {},
   "outputs": [],
   "source": [
    "sm.graphics.tsa.plot_acf(df_2020[\"log_daily_sales\"], lags=40)"
   ]
  },
  {
   "cell_type": "code",
   "execution_count": null,
   "id": "537d985f-2777-4979-9e87-2c888c5f6b11",
   "metadata": {},
   "outputs": [],
   "source": [
    "sm.graphics.tsa.plot_pacf(df_2020[\"log_daily_sales\"], lags=40, method=\"ywm\")"
   ]
  },
  {
   "cell_type": "code",
   "execution_count": null,
   "id": "d247b4d0-509d-437d-bed3-cf88e0184c6f",
   "metadata": {},
   "outputs": [],
   "source": [
    "sm.graphics.tsa.plot_pacf(df[\"log_daily_sales\"], lags=40, method=\"ywm\")"
   ]
  },
  {
   "cell_type": "markdown",
   "id": "1fdceae4",
   "metadata": {},
   "source": [
    "## Observation\n",
    "It appears that daily sales are not correlated, but independent draws from a distribution. This looks like a white noise process. This is consistent with synthetically generated data. A dickey fuller test with no regression (constant, this is the default) also suggests the same."
   ]
  },
  {
   "cell_type": "code",
   "execution_count": null,
   "id": "41035e32-cf8f-4ae2-a660-2c6df3e41d9f",
   "metadata": {},
   "outputs": [],
   "source": [
    "from statsmodels.tsa.stattools import adfuller\n",
    "result = adfuller(df[\"log_daily_sales\"])\n",
    "print('ADF Statistic: %f' % result[0])\n",
    "print('p-value: %f' % result[1])"
   ]
  },
  {
   "cell_type": "code",
   "execution_count": null,
   "id": "973f417d-18aa-4da7-a6cc-b9a6035f085b",
   "metadata": {},
   "outputs": [],
   "source": [
    "df_2020"
   ]
  },
  {
   "cell_type": "code",
   "execution_count": null,
   "id": "c0a6c7ca",
   "metadata": {},
   "outputs": [],
   "source": [
    "\n",
    "df[\"log_daily_sales\"] = np.log(df[\"ice_cream_purchases\"])"
   ]
  },
  {
   "cell_type": "code",
   "execution_count": null,
   "id": "8aa95bfe-f438-4d89-b6ed-35dca9dc9a8c",
   "metadata": {},
   "outputs": [],
   "source": [
    "df_yearly_ice_cream_sales = df.set_index(\"Date\").resample(\"Y\").sum()"
   ]
  },
  {
   "cell_type": "code",
   "execution_count": null,
   "id": "0ce1e97a-c970-49bf-a306-458afbf83fa7",
   "metadata": {},
   "outputs": [],
   "source": [
    "df_yearly_ice_cream_sales"
   ]
  },
  {
   "cell_type": "code",
   "execution_count": null,
   "id": "8d3fbc4f",
   "metadata": {},
   "outputs": [],
   "source": [
    "df[\"ice_cream_purchases\"].plot()"
   ]
  },
  {
   "cell_type": "code",
   "execution_count": null,
   "id": "b33c5d00",
   "metadata": {},
   "outputs": [],
   "source": [
    "fpmeanweekly = \"../data/mean_weekly_ice_cream_sales.csv\"\n",
    "dfwmics = pd.read_csv(fpmeanweekly)"
   ]
  },
  {
   "cell_type": "code",
   "execution_count": null,
   "id": "d5119638-b358-49e4-a8fa-8c6e02ec4817",
   "metadata": {},
   "outputs": [],
   "source": [
    "dfwmics[\"ice_cream_purchases\"].plot()"
   ]
  },
  {
   "cell_type": "code",
   "execution_count": null,
   "id": "53183a2a-cc93-466d-be09-e287f049900b",
   "metadata": {},
   "outputs": [],
   "source": [
    "dfwmics[\"weekno\"] = range(1,dfwmics.shape[0] + 1)"
   ]
  },
  {
   "cell_type": "code",
   "execution_count": null,
   "id": "5e3027a7-8282-46d1-a8e7-8b55d76cc7d7",
   "metadata": {},
   "outputs": [],
   "source": [
    "dfwmics"
   ]
  },
  {
   "cell_type": "code",
   "execution_count": null,
   "id": "2556f2de-46db-4590-8160-fe4aa5db5db2",
   "metadata": {},
   "outputs": [],
   "source": []
  }
 ],
 "metadata": {
  "kernelspec": {
   "display_name": "Python 3 (ipykernel)",
   "language": "python",
   "name": "python3"
  },
  "language_info": {
   "codemirror_mode": {
    "name": "ipython",
    "version": 3
   },
   "file_extension": ".py",
   "mimetype": "text/x-python",
   "name": "python",
   "nbconvert_exporter": "python",
   "pygments_lexer": "ipython3",
   "version": "3.12.7"
  }
 },
 "nbformat": 4,
 "nbformat_minor": 5
}
