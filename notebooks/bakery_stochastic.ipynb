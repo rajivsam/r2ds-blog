{
 "cells": [
  {
   "cell_type": "code",
   "execution_count": null,
   "id": "3a05c782-137a-4971-98fe-de9ef591ad47",
   "metadata": {},
   "outputs": [],
   "source": [
    "\n",
    "from dotenv import dotenv_values\n",
    "fp = \"../notebooks/.env\"\n",
    "config = dotenv_values(fp)"
   ]
  },
  {
   "cell_type": "code",
   "execution_count": null,
   "id": "a27b2ca4-423c-4c63-8836-764353f20724",
   "metadata": {},
   "outputs": [],
   "source": [
    "SOLVER = \"cbc\"\n",
    "\n",
    "from amplpy import AMPL, ampl_notebook\n",
    "\n",
    "ampl = ampl_notebook(\n",
    "    modules=[\"cbc\"],  # modules to install\n",
    "    license_uuid=config[\"AMPL_UUID\"],  # license to use\n",
    ")  # instantiate AMPL object and register magics"
   ]
  },
  {
   "cell_type": "code",
   "execution_count": null,
   "id": "e9e99f72-2f75-412a-ae3a-fcd8929b048b",
   "metadata": {},
   "outputs": [],
   "source": [
    "%%writefile bakery.mod\n",
    "param N; # number of samples\n",
    "\n",
    "param c;\n",
    "param p;\n",
    "param h;\n",
    "\n",
    "set indices := 1..N;\n",
    "param xi{indices};\n",
    "\n",
    "# first stage variable: x (amount of baguettes baked)\n",
    "var x integer >=0;\n",
    "\n",
    "var first_stage_profit = -c * x;\n",
    "\n",
    "# second stage variables: y (sold) and z (unsold)\n",
    "var y{indices} integer >=0;\n",
    "var z{indices} integer >=0;\n",
    "\n",
    "# second stage constraints\n",
    "s.t. cantsellbaguettedonthave {i in indices}: y[i] <= xi[i];\n",
    "s.t. baguettedonotdisappear {i in indices}: y[i] + z[i] == x;\n",
    "\n",
    "var second_stage_profit = sum{i in indices}(p * y[i] - h * z[i]) / N;\n",
    "\n",
    "# objective\n",
    "maximize total_expected_profit: first_stage_profit + second_stage_profit;"
   ]
  },
  {
   "cell_type": "code",
   "execution_count": null,
   "id": "405f3d05-dac1-4de3-9183-ff6c190cc2d9",
   "metadata": {},
   "outputs": [],
   "source": [
    "import numpy as np\n",
    "import pandas as pd\n",
    "import matplotlib.pyplot as plt\n",
    "import math\n",
    "import scipy.stats as stats"
   ]
  },
  {
   "cell_type": "code",
   "execution_count": null,
   "id": "5da434b0-51af-4524-a555-ab9c6226b5df",
   "metadata": {},
   "outputs": [],
   "source": [
    "\n",
    "from scipy.stats import nbinom\n",
    "# Two-stage stochastic LP using SAA\n",
    "# Setting parameters\n",
    "## TL;DR version on pricing Profit Index. Costs = Selling Price, selling price is known from data, profit index is 1.7 \n",
    "c = 52\n",
    "p = 90\n",
    "h = 1\n",
    "# Two-stage stochastic LP using SAA\n",
    "\n",
    "np.random.seed(1)\n",
    "N = 5000\n",
    "shape = 9.42\n",
    "intensity = (1/6.97)\n",
    "samples = nbinom.rvs(shape,intensity,size=N)\n",
    "ampl = AMPL()\n",
    "ampl.read(\"bakery.mod\")\n",
    "\n",
    "# Load the data\n",
    "ampl.param[\"N\"] = int(N)\n",
    "ampl.param[\"xi\"] = samples\n",
    "ampl.param[\"c\"] = c\n",
    "ampl.param[\"p\"] = p\n",
    "ampl.param[\"h\"] = h\n",
    "\n",
    "ampl.solve(solver=SOLVER)\n",
    "assert ampl.solve_result == \"solved\", ampl.solve_result\n",
    "\n",
    "xval = ampl.var[\"x\"].value()\n",
    "total_expected_profit = (ampl.obj[\"total_expected_profit\"].value()/100) # The divide by 100 is to convert from cent to euro\n",
    "\n",
    "\n",
    "print(\n",
    "    f\"Approximate solution with fitted deman distribution using N={N:.0f} samples\"\n",
    ")\n",
    "print(f\"Approximate optimal solution: x = {xval:.2f} baguettes\")\n",
    "print(f\"Approximate expected daily profit: {total_expected_profit:.2f}€\")\n",
    "\n"
   ]
  },
  {
   "cell_type": "code",
   "execution_count": null,
   "id": "bca3ea49-2db8-46b5-9fd5-24fb4b861d66",
   "metadata": {},
   "outputs": [],
   "source": [
    "zs = ampl.var[\"z\"]\n",
    "\n",
    "ys = ampl.var[\"y\"]\n",
    "\n",
    "ny = ys.numInstances()\n",
    "\n",
    "yvals = [ ys[i].value() for i in range(1, ny +1)]\n",
    "\n",
    "zvals = [ zs[i].value() for i in range(1, ny +1)]\n",
    "\n",
    "df_soln = pd.DataFrame.from_records({\"yi\": yvals, \"zi\": zvals})"
   ]
  },
  {
   "cell_type": "code",
   "execution_count": null,
   "id": "d91c8f66-5b3a-4b26-96b2-bc5b27d9b20c",
   "metadata": {},
   "outputs": [],
   "source": [
    "df_soln"
   ]
  },
  {
   "cell_type": "code",
   "execution_count": null,
   "id": "69cfeb89-2059-467c-a50f-c4de5796a611",
   "metadata": {},
   "outputs": [],
   "source": []
  }
 ],
 "metadata": {
  "kernelspec": {
   "display_name": "Python 3 (ipykernel)",
   "language": "python",
   "name": "python3"
  },
  "language_info": {
   "codemirror_mode": {
    "name": "ipython",
    "version": 3
   },
   "file_extension": ".py",
   "mimetype": "text/x-python",
   "name": "python",
   "nbconvert_exporter": "python",
   "pygments_lexer": "ipython3",
   "version": "3.12.7"
  }
 },
 "nbformat": 4,
 "nbformat_minor": 5
}
