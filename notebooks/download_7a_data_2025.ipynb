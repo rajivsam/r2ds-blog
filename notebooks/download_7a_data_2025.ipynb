{
 "cells": [
  {
   "cell_type": "code",
   "execution_count": null,
   "id": "f5e09269-ca82-4dfb-8820-e3dcc78b2a1a",
   "metadata": {},
   "outputs": [],
   "source": [
    "from dotenv import dotenv_values\n",
    "fp = \"../data/.env\"\n",
    "config = dotenv_values(fp)"
   ]
  },
  {
   "cell_type": "code",
   "execution_count": null,
   "id": "8ea8ca04-5fd1-4490-b2f0-fa8abba8ea55",
   "metadata": {},
   "outputs": [],
   "source": [
    "import requests\n",
    "import pandas as pd\n",
    "import io"
   ]
  },
  {
   "cell_type": "code",
   "execution_count": null,
   "id": "ed6fdb49-cdb3-4323-a632-7dbd16d9ef81",
   "metadata": {},
   "outputs": [],
   "source": [
    "fetch_string = config[\"DATA_GOV_7A_LOANS_URL\"] + \"?api-key=\" + config[\"DATA_GOV_USA_API_KEY\"] + \"&format=csv\""
   ]
  },
  {
   "cell_type": "code",
   "execution_count": null,
   "id": "1cfd0448-1c9b-4582-955f-b144e53d1587",
   "metadata": {},
   "outputs": [],
   "source": [
    "urlData = requests.get(fetch_string).content\n"
   ]
  },
  {
   "cell_type": "code",
   "execution_count": null,
   "id": "401b2294-18c9-4d4c-aa35-cef5f490fed0",
   "metadata": {},
   "outputs": [],
   "source": [
    "fp_write = \"../data/7aloans2025.csv\"\n",
    "rawData = pd.read_csv(io.StringIO(urlData.decode('utf-8')))\n",
    "rawData.to_csv(fp_write)"
   ]
  },
  {
   "cell_type": "code",
   "execution_count": null,
   "id": "cb4da974-6f16-46aa-a1f4-d38647a52511",
   "metadata": {},
   "outputs": [],
   "source": [
    "fetch_string = config[\"DATA_GOV_7A_LOANS_DATA_DICT_URL\"] + \"?api-key=\" + config[\"DATA_GOV_USA_API_KEY\"] + \"&format=csv\"\n",
    "urlData = requests.get(fetch_string).content"
   ]
  },
  {
   "cell_type": "code",
   "execution_count": null,
   "id": "7bb35c48-94d8-4c91-aa18-11b2b690051b",
   "metadata": {},
   "outputs": [],
   "source": [
    "with io.BytesIO(urlData) as fh:\n",
    "    df = pd.io.excel.read_excel(fh, sheet_name=0)"
   ]
  },
  {
   "cell_type": "code",
   "execution_count": null,
   "id": "99082b12-6e23-4ee6-a548-e44f10b535a3",
   "metadata": {},
   "outputs": [],
   "source": [
    "fp = \"../data/dictionary/7a_loans_2025_data_dictionary.csy\"\n",
    "df.to_csv(fp, index=False)"
   ]
  },
  {
   "cell_type": "code",
   "execution_count": null,
   "id": "bb932ebd-f084-48d5-a384-5a9f9b4cf218",
   "metadata": {},
   "outputs": [],
   "source": []
  }
 ],
 "metadata": {
  "kernelspec": {
   "display_name": "Python 3 (ipykernel)",
   "language": "python",
   "name": "python3"
  },
  "language_info": {
   "codemirror_mode": {
    "name": "ipython",
    "version": 3
   },
   "file_extension": ".py",
   "mimetype": "text/x-python",
   "name": "python",
   "nbconvert_exporter": "python",
   "pygments_lexer": "ipython3",
   "version": "3.12.7"
  }
 },
 "nbformat": 4,
 "nbformat_minor": 5
}
