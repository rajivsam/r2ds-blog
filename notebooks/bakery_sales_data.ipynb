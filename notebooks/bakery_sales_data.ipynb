{
 "cells": [
  {
   "cell_type": "code",
   "execution_count": null,
   "id": "54486aac-b902-475b-a60e-0d3564e0270b",
   "metadata": {},
   "outputs": [],
   "source": [
    "import kagglehub\n",
    "from kagglehub import KaggleDatasetAdapter\n",
    "import kagglehub\n",
    "\n",
    "# Download latest version\n",
    "path = kagglehub.dataset_download(\"matthieugimbert/french-bakery-daily-sales\")\n",
    "\n",
    "print(\"Path to dataset files:\", path)"
   ]
  },
  {
   "cell_type": "code",
   "execution_count": null,
   "id": "e889bf7d-d918-490e-b234-22f541ae071e",
   "metadata": {},
   "outputs": [],
   "source": [
    "import pandas as pd\n",
    "# kagglehub, please make this simpler, provide some example, really poor documentation for the api\"\n",
    "fp = path + \"/Bakery Sales.csv\"\n",
    "df = pd.read_csv(fp)\n",
    "cols = df.columns.tolist()\n",
    "cols.remove(\"Unnamed: 0\")\n",
    "df = df[cols]\n",
    "df.head()"
   ]
  },
  {
   "cell_type": "code",
   "execution_count": null,
   "id": "bee99425-546f-46f3-99ed-cb0a22221583",
   "metadata": {},
   "outputs": [],
   "source": [
    "filter_baguette = (df.article == \"BAGUETTE\")\n",
    "df[\"datetime\"] = pd.to_datetime(df[\"date\"]  + \" \" + df[\"time\"])\n",
    "df_baguette = df[filter_baguette]\n",
    "cols = [\"datetime\", \"Quantity\"]\n",
    "df_baguette = df_baguette[cols]"
   ]
  },
  {
   "cell_type": "code",
   "execution_count": null,
   "id": "effca646-1478-4a32-a774-6ff5d9e44568",
   "metadata": {},
   "outputs": [],
   "source": [
    "df_daily_baugette = df_baguette.set_index(\"datetime\").resample(\"D\").sum()\n",
    "df_weekly_baugette = df_baguette.set_index(\"datetime\").resample(\"W\").sum()"
   ]
  },
  {
   "cell_type": "code",
   "execution_count": null,
   "id": "3f87fac8-48bd-4704-a14b-20c4a8188061",
   "metadata": {},
   "outputs": [],
   "source": [
    "df_weekly_baugette = df_weekly_baugette.reset_index()"
   ]
  },
  {
   "cell_type": "code",
   "execution_count": null,
   "id": "9225559b-eb71-4758-ab70-35eb37576b7d",
   "metadata": {},
   "outputs": [],
   "source": [
    "df_weekly_baugette"
   ]
  },
  {
   "cell_type": "code",
   "execution_count": null,
   "id": "8c0a72e8-ccd3-47c8-9ad3-4ccdf7bd1261",
   "metadata": {},
   "outputs": [],
   "source": [
    "zero_counts = (df_daily_baugette.Quantity == 0)\n",
    "df_daily_baugette[zero_counts].shape\n"
   ]
  },
  {
   "cell_type": "code",
   "execution_count": null,
   "id": "96157dde-3fcf-46df-95b8-3f60c937f54e",
   "metadata": {},
   "outputs": [],
   "source": [
    "df_daily_baugette = df_daily_baugette.reset_index()"
   ]
  },
  {
   "cell_type": "code",
   "execution_count": null,
   "id": "71cd5741-4350-432d-a3f5-5efa751d7019",
   "metadata": {},
   "outputs": [],
   "source": [
    "df_daily_baugette[\"Day\"] = df_daily_baugette.index\n",
    "df_daily_baugette[\"DOW\"] = df_daily_baugette.datetime.dt.day_of_week\n",
    "df_daily_baugette[\"month\"] = df_daily_baugette.datetime.dt.month"
   ]
  },
  {
   "cell_type": "code",
   "execution_count": null,
   "id": "56fac9fc-6cdb-4155-bc39-4615eba9e0c1",
   "metadata": {},
   "outputs": [],
   "source": [
    "df_daily_baugette[\"WOY\"] = df_daily_baugette.datetime.dt.isocalendar().week\n"
   ]
  },
  {
   "cell_type": "code",
   "execution_count": null,
   "id": "4c8aff77-1e6a-405b-ba45-44b35c1b1c53",
   "metadata": {},
   "outputs": [],
   "source": [
    "cols = [\"Day\",\"datetime\", \"DOW\", \"month\", \"WOY\", \"Quantity\"]\n",
    "df_daily_baugette = df_daily_baugette[cols]\n"
   ]
  },
  {
   "cell_type": "code",
   "execution_count": null,
   "id": "853fb222-2149-49c2-81c8-e57ea1b28abf",
   "metadata": {},
   "outputs": [],
   "source": [
    "df_daily_baugette.shape"
   ]
  },
  {
   "cell_type": "code",
   "execution_count": null,
   "id": "915cc6b0-7765-4e17-a6d0-608aadbca336",
   "metadata": {},
   "outputs": [],
   "source": [
    "from matplotlib import pyplot as plt"
   ]
  },
  {
   "cell_type": "code",
   "execution_count": null,
   "id": "7bb93bb3-36ab-46a4-bfc7-238390638163",
   "metadata": {},
   "outputs": [],
   "source": [
    "plt.figure(figsize=(12, 6))\n",
    "df_daily_baugette[\"Quantity\"].plot()"
   ]
  },
  {
   "cell_type": "markdown",
   "id": "9fca7a40-2ce5-4de3-b98e-2cfe8f505e59",
   "metadata": {},
   "source": [
    "## Dependency Check\n",
    "The purpose of the STL decomposition is to identify underlying components of the series. The purpose of the auto-correlation plots is to get another perspective on the dependence structure. This tells us the variance components that we have to account for if we are going to build a forecasting model. Note that for demand estimation, we are not actually forecasting anything, we need a statistical characterization of the demand **independent** of the sequence order of demand arrival, we only care that the net demand is right, we don't care how it arrives. In forecasting, we do and we have to account for it in the model."
   ]
  },
  {
   "cell_type": "code",
   "execution_count": null,
   "id": "04f2f32f-ebd0-4de3-bbd6-ccd2dc1cab2c",
   "metadata": {},
   "outputs": [],
   "source": [
    "from statsmodels.tsa.seasonal import STL\n",
    "daily_baugette_sales = pd.Series(df_daily_baugette[\"Quantity\"].values, index=df_daily_baugette[\"datetime\"])\n",
    "stl = STL(daily_baugette_sales, period=7)\n",
    "res = stl.fit()"
   ]
  },
  {
   "cell_type": "code",
   "execution_count": null,
   "id": "90690661-0950-4115-a9a3-822ec6cf65e5",
   "metadata": {},
   "outputs": [],
   "source": [
    "decomp_res = {\"Trend\": res._trend, \"Seasonality\": res._seasonal, \"Noise\": res._resid}\n",
    "df_res = pd.DataFrame.from_dict(decomp_res, orient=\"columns\")\n",
    "df_res = df_res.reset_index()"
   ]
  },
  {
   "cell_type": "code",
   "execution_count": null,
   "id": "51b8ea2c-b7a7-429e-9b5b-2df1d5f47b15",
   "metadata": {},
   "outputs": [],
   "source": [
    "df_res[\"Day\"] = df_res.index + 1"
   ]
  },
  {
   "cell_type": "code",
   "execution_count": null,
   "id": "68310136-18e2-4bdd-a040-86ccb3a492b8",
   "metadata": {},
   "outputs": [],
   "source": [
    "df_res"
   ]
  },
  {
   "cell_type": "markdown",
   "id": "74c512dc-a5e4-4a54-bbb1-9cabcaf1540c",
   "metadata": {},
   "source": [
    "## Zero Check\n",
    "Just want to check if it is a count process dominated by zeros, or if zeros are small in number."
   ]
  },
  {
   "cell_type": "code",
   "execution_count": null,
   "id": "f3a73357-a348-472d-b40e-f64ad1c90c50",
   "metadata": {},
   "outputs": [],
   "source": [
    "zero_counts = (df_daily_baugette.Quantity == 0)\n",
    "df_daily_baugette[zero_counts].shape"
   ]
  },
  {
   "cell_type": "code",
   "execution_count": null,
   "id": "6cc1671c-2d61-49ef-bc62-7595e1924278",
   "metadata": {},
   "outputs": [],
   "source": [
    "# Using plotly.express\n",
    "import plotly.express as px\n",
    "fig = px.line(df_daily_baugette, x='datetime', y=\"Quantity\")\n",
    "fig.update_layout(\n",
    "    autosize=False,\n",
    "    width=1100,\n",
    "    height=800,\n",
    ")\n",
    "fig.show()"
   ]
  },
  {
   "cell_type": "code",
   "execution_count": null,
   "id": "239b3e6a-20bc-45fb-a68c-32ca2faf37ba",
   "metadata": {},
   "outputs": [],
   "source": [
    "# Using plotly.express\n",
    "import plotly.express as px\n",
    "fig = px.line(df_res, x='datetime', y=\"Trend\", title=\"Trend Cycle Component of Daily Baugette Sales\",\n",
    "             labels = {\"Trend\": \"Number of Baugettes\", \"datetime\": \"date\"})# Using plotly.express\n",
    "fig.update_layout(\n",
    "    autosize=False,\n",
    "    width=1100,\n",
    "    height=800,\n",
    ")\n",
    "fig.show()"
   ]
  },
  {
   "cell_type": "code",
   "execution_count": null,
   "id": "83d54c8b-18ae-4b51-811f-dd4d98589ea4",
   "metadata": {},
   "outputs": [],
   "source": [
    "# Using plotly.express\n",
    "import plotly.express as px\n",
    "fig = px.line(df_res, x='datetime', y=\"Seasonality\", title=\"Seasonality Component of Daily Baugette Sales\",\n",
    "             labels = {\"Trend\": \"Number of Baugettes\", \"datetime\": \"date\"})# Using plotly.express\n",
    "fig.update_layout(\n",
    "    autosize=False,\n",
    "    width=1100,\n",
    "    height=800,\n",
    ")\n",
    "fig.show()"
   ]
  },
  {
   "cell_type": "code",
   "execution_count": null,
   "id": "94301fc7-878e-40df-aaaa-5219a7206336",
   "metadata": {},
   "outputs": [],
   "source": [
    "# Using plotly.express\n",
    "import plotly.express as px\n",
    "fig = px.line(df_res, x='datetime', y=\"Noise\", title=\"Noise Component of Daily Baugette Sales\",\n",
    "             labels = {\"Noise\": \"Number of Baugettes\", \"datetime\": \"date\"})# Using plotly.express\n",
    "fig.update_layout(\n",
    "    autosize=False,\n",
    "    width=1100,\n",
    "    height=800,\n",
    ")\n",
    "fig.show()"
   ]
  },
  {
   "cell_type": "code",
   "execution_count": null,
   "id": "004a7c90-fc84-46f2-82a4-8255c393dcb9",
   "metadata": {},
   "outputs": [],
   "source": [
    "df_res[\"Trend\"].plot.kde()\n",
    "plt.grid(True)"
   ]
  },
  {
   "cell_type": "code",
   "execution_count": null,
   "id": "061eee87-832e-48de-b9ae-48fa4694ed2c",
   "metadata": {},
   "outputs": [],
   "source": [
    "df_res[\"Seasonality\"].plot.kde()\n",
    "plt.grid(True)"
   ]
  },
  {
   "cell_type": "code",
   "execution_count": null,
   "id": "4f1f88f0-f718-4f16-b563-58e6ce948d0a",
   "metadata": {},
   "outputs": [],
   "source": [
    "import statsmodels.api as sm"
   ]
  },
  {
   "cell_type": "code",
   "execution_count": null,
   "id": "38d88a3e-bac7-4062-bcc3-1de7b5250830",
   "metadata": {},
   "outputs": [],
   "source": [
    "plt.rc(\"figure\", figsize=(12,8))\n",
    "acf_plot = sm.graphics.tsa.plot_acf(df_daily_baugette[\"Quantity\"] , lags=40)\n",
    "plt.grid(True)"
   ]
  },
  {
   "cell_type": "code",
   "execution_count": null,
   "id": "5813bbbf-5737-413b-85a3-5b40a17d52f4",
   "metadata": {},
   "outputs": [],
   "source": [
    "plt.rc(\"figure\", figsize=(12,8))\n",
    "pacf_plot = sm.graphics.tsa.plot_pacf(df_daily_baugette[\"Quantity\"], lags=40, method=\"ywm\")\n",
    "plt.grid(True)"
   ]
  },
  {
   "cell_type": "code",
   "execution_count": null,
   "id": "4f3a42cf-08f1-4f6b-b2f2-f2c93e6efdfb",
   "metadata": {},
   "outputs": [],
   "source": [
    "df_baguette = df_baguette.reset_index(drop=True)"
   ]
  },
  {
   "cell_type": "code",
   "execution_count": null,
   "id": "81ff2150-2419-459f-a157-aee6ad1611b7",
   "metadata": {},
   "outputs": [],
   "source": [
    "df_baguette = df_baguette.rename(columns={\"index\": \"Day\"})"
   ]
  },
  {
   "cell_type": "code",
   "execution_count": null,
   "id": "18e637a8-ceaf-4b39-afc6-ff611713cf8c",
   "metadata": {},
   "outputs": [],
   "source": [
    "df_baguette[\"Day\"] = df_baguette.index + 1\n",
    "df_baguette[\"DOW\"] = df_baguette.datetime.dt.day_of_week\n",
    "df_baguette[\"month\"] = df_baguette.datetime.dt.month"
   ]
  },
  {
   "cell_type": "code",
   "execution_count": null,
   "id": "2ae121d8-1b36-47a5-9819-db55906d65bf",
   "metadata": {},
   "outputs": [],
   "source": [
    "df_daily_baugette[\"CWOY\"] = df_daily_baugette.apply(lambda x: x[\"WOY\"] + 53 if x.datetime.year == 2022 else x[\"WOY\"], axis=1)"
   ]
  },
  {
   "cell_type": "code",
   "execution_count": null,
   "id": "04e90cc0-1724-4b21-b122-d7716a1a8ac9",
   "metadata": {},
   "outputs": [],
   "source": [
    "df_daily_baugette[\"CWOY\"].max()"
   ]
  },
  {
   "cell_type": "code",
   "execution_count": null,
   "id": "d84b1a4d-f469-4ccc-8032-c6ac37f72bf8",
   "metadata": {},
   "outputs": [],
   "source": [
    "df_daily_baugette"
   ]
  },
  {
   "cell_type": "code",
   "execution_count": null,
   "id": "0ae604e5-6035-471c-b8ce-66378273d107",
   "metadata": {},
   "outputs": [],
   "source": [
    "fp = \"../data/daily_baugette_sales.csv\"\n",
    "df_daily_baugette.to_csv(fp, index=False)"
   ]
  },
  {
   "cell_type": "code",
   "execution_count": null,
   "id": "2a3c8f21-1229-424a-8dbd-cb556efaa08c",
   "metadata": {},
   "outputs": [],
   "source": [
    "df_period_perf  = pd.pivot_table(df_daily_baugette, index= \"CWOY\", columns= \"DOW\", values = \"Quantity\", fill_value=0) "
   ]
  },
  {
   "cell_type": "code",
   "execution_count": null,
   "id": "80922893-9fd6-4998-95ca-bdaa34de0cea",
   "metadata": {},
   "outputs": [],
   "source": [
    "HOURS_OPEN = 1\n",
    "df_period_perf = df_period_perf.apply(lambda x: x.div(HOURS_OPEN), axis=1).round(3).reset_index()"
   ]
  },
  {
   "cell_type": "code",
   "execution_count": null,
   "id": "29379dbc-0a67-4f96-90a6-2133ba362f32",
   "metadata": {},
   "outputs": [],
   "source": [
    "df_period_perf = df_period_perf.melt(id_vars=[\"CWOY\"], value_vars=[i for i in range(7)], value_name=\"Quantity\")"
   ]
  },
  {
   "cell_type": "code",
   "execution_count": null,
   "id": "f17c19f3-6b60-40c3-bfbc-8e0fd6ee57e7",
   "metadata": {},
   "outputs": [],
   "source": [
    "df_period_perf"
   ]
  },
  {
   "cell_type": "code",
   "execution_count": null,
   "id": "0b2ae22b-f642-4b99-b5b8-494a43202d13",
   "metadata": {},
   "outputs": [],
   "source": [
    "df_period_perf.Quantity.plot.kde()"
   ]
  },
  {
   "cell_type": "code",
   "execution_count": null,
   "id": "4b3ef912-0000-4c25-bd6e-36a487ae8889",
   "metadata": {},
   "outputs": [],
   "source": [
    "# Using plotly.express\n",
    "import plotly.express as px\n",
    "fig = px.scatter(df_period_perf, x='CWOY', y=\"Quantity\")\n",
    "fig.update_layout(\n",
    "    autosize=False,\n",
    "    width=1100,\n",
    "    height=800,\n",
    ")\n",
    "fig.show()"
   ]
  }
 ],
 "metadata": {
  "kernelspec": {
   "display_name": "Python 3 (ipykernel)",
   "language": "python",
   "name": "python3"
  },
  "language_info": {
   "codemirror_mode": {
    "name": "ipython",
    "version": 3
   },
   "file_extension": ".py",
   "mimetype": "text/x-python",
   "name": "python",
   "nbconvert_exporter": "python",
   "pygments_lexer": "ipython3",
   "version": "3.12.7"
  }
 },
 "nbformat": 4,
 "nbformat_minor": 5
}
