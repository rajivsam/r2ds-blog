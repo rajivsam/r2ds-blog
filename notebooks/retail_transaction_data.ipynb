{
 "cells": [
  {
   "cell_type": "markdown",
   "id": "85555956",
   "metadata": {},
   "source": [
    "## Data Preparation Notebook\n",
    "The data for this notebook is from [Kaggle](https://www.kaggle.com/datasets/prasad22/retail-transactions-dataset). The data looks like it is synthetic, the characteristics observed in the dataset also seem to suggest that. The objectives for this notebook are to:\n",
    "\n",
    "1. Understand the attributes in the dataset, thier purpose and range of values\n",
    "2. Understand how transactions are represented\n",
    "3. Extract transactions involving an ice cream purchase \n",
    "4. Aggregate the ice cream transactions at a daily cadence\n",
    "5. Extract the maximum daily sales of ice cream for each week of the analysis period"
   ]
  },
  {
   "cell_type": "code",
   "execution_count": 1,
   "id": "5567e874",
   "metadata": {},
   "outputs": [],
   "source": [
    "import pandas as pd\n",
    "fp = \"../data/Retail_Transactions_Dataset.csv\"\n",
    "df = pd.read_csv(fp)"
   ]
  },
  {
   "cell_type": "code",
   "execution_count": 2,
   "id": "7e6561c0",
   "metadata": {},
   "outputs": [
    {
     "data": {
      "text/html": [
       "<div>\n",
       "<style scoped>\n",
       "    .dataframe tbody tr th:only-of-type {\n",
       "        vertical-align: middle;\n",
       "    }\n",
       "\n",
       "    .dataframe tbody tr th {\n",
       "        vertical-align: top;\n",
       "    }\n",
       "\n",
       "    .dataframe thead th {\n",
       "        text-align: right;\n",
       "    }\n",
       "</style>\n",
       "<table border=\"1\" class=\"dataframe\">\n",
       "  <thead>\n",
       "    <tr style=\"text-align: right;\">\n",
       "      <th></th>\n",
       "      <th>Transaction_ID</th>\n",
       "      <th>Date</th>\n",
       "      <th>Customer_Name</th>\n",
       "      <th>Product</th>\n",
       "      <th>Total_Items</th>\n",
       "      <th>Total_Cost</th>\n",
       "      <th>Payment_Method</th>\n",
       "      <th>City</th>\n",
       "      <th>Store_Type</th>\n",
       "      <th>Discount_Applied</th>\n",
       "      <th>Customer_Category</th>\n",
       "      <th>Season</th>\n",
       "      <th>Promotion</th>\n",
       "    </tr>\n",
       "  </thead>\n",
       "  <tbody>\n",
       "    <tr>\n",
       "      <th>0</th>\n",
       "      <td>1000000000</td>\n",
       "      <td>2022-01-21 06:27:29</td>\n",
       "      <td>Stacey Price</td>\n",
       "      <td>['Ketchup', 'Shaving Cream', 'Light Bulbs']</td>\n",
       "      <td>3</td>\n",
       "      <td>71.65</td>\n",
       "      <td>Mobile Payment</td>\n",
       "      <td>Los Angeles</td>\n",
       "      <td>Warehouse Club</td>\n",
       "      <td>True</td>\n",
       "      <td>Homemaker</td>\n",
       "      <td>Winter</td>\n",
       "      <td>None</td>\n",
       "    </tr>\n",
       "    <tr>\n",
       "      <th>1</th>\n",
       "      <td>1000000001</td>\n",
       "      <td>2023-03-01 13:01:21</td>\n",
       "      <td>Michelle Carlson</td>\n",
       "      <td>['Ice Cream', 'Milk', 'Olive Oil', 'Bread', 'P...</td>\n",
       "      <td>2</td>\n",
       "      <td>25.93</td>\n",
       "      <td>Cash</td>\n",
       "      <td>San Francisco</td>\n",
       "      <td>Specialty Store</td>\n",
       "      <td>True</td>\n",
       "      <td>Professional</td>\n",
       "      <td>Fall</td>\n",
       "      <td>BOGO (Buy One Get One)</td>\n",
       "    </tr>\n",
       "    <tr>\n",
       "      <th>2</th>\n",
       "      <td>1000000002</td>\n",
       "      <td>2024-03-21 15:37:04</td>\n",
       "      <td>Lisa Graves</td>\n",
       "      <td>['Spinach']</td>\n",
       "      <td>6</td>\n",
       "      <td>41.49</td>\n",
       "      <td>Credit Card</td>\n",
       "      <td>Houston</td>\n",
       "      <td>Department Store</td>\n",
       "      <td>True</td>\n",
       "      <td>Professional</td>\n",
       "      <td>Winter</td>\n",
       "      <td>None</td>\n",
       "    </tr>\n",
       "    <tr>\n",
       "      <th>3</th>\n",
       "      <td>1000000003</td>\n",
       "      <td>2020-10-31 09:59:47</td>\n",
       "      <td>Mrs. Patricia May</td>\n",
       "      <td>['Tissues', 'Mustard']</td>\n",
       "      <td>1</td>\n",
       "      <td>39.34</td>\n",
       "      <td>Mobile Payment</td>\n",
       "      <td>Chicago</td>\n",
       "      <td>Pharmacy</td>\n",
       "      <td>True</td>\n",
       "      <td>Homemaker</td>\n",
       "      <td>Spring</td>\n",
       "      <td>None</td>\n",
       "    </tr>\n",
       "    <tr>\n",
       "      <th>4</th>\n",
       "      <td>1000000004</td>\n",
       "      <td>2020-12-10 00:59:59</td>\n",
       "      <td>Susan Mitchell</td>\n",
       "      <td>['Dish Soap']</td>\n",
       "      <td>10</td>\n",
       "      <td>16.42</td>\n",
       "      <td>Debit Card</td>\n",
       "      <td>Houston</td>\n",
       "      <td>Specialty Store</td>\n",
       "      <td>False</td>\n",
       "      <td>Young Adult</td>\n",
       "      <td>Winter</td>\n",
       "      <td>Discount on Selected Items</td>\n",
       "    </tr>\n",
       "  </tbody>\n",
       "</table>\n",
       "</div>"
      ],
      "text/plain": [
       "   Transaction_ID                 Date      Customer_Name  \\\n",
       "0      1000000000  2022-01-21 06:27:29       Stacey Price   \n",
       "1      1000000001  2023-03-01 13:01:21   Michelle Carlson   \n",
       "2      1000000002  2024-03-21 15:37:04        Lisa Graves   \n",
       "3      1000000003  2020-10-31 09:59:47  Mrs. Patricia May   \n",
       "4      1000000004  2020-12-10 00:59:59     Susan Mitchell   \n",
       "\n",
       "                                             Product  Total_Items  Total_Cost  \\\n",
       "0        ['Ketchup', 'Shaving Cream', 'Light Bulbs']            3       71.65   \n",
       "1  ['Ice Cream', 'Milk', 'Olive Oil', 'Bread', 'P...            2       25.93   \n",
       "2                                        ['Spinach']            6       41.49   \n",
       "3                             ['Tissues', 'Mustard']            1       39.34   \n",
       "4                                      ['Dish Soap']           10       16.42   \n",
       "\n",
       "   Payment_Method           City        Store_Type  Discount_Applied  \\\n",
       "0  Mobile Payment    Los Angeles    Warehouse Club              True   \n",
       "1            Cash  San Francisco   Specialty Store              True   \n",
       "2     Credit Card        Houston  Department Store              True   \n",
       "3  Mobile Payment        Chicago          Pharmacy              True   \n",
       "4      Debit Card        Houston   Specialty Store             False   \n",
       "\n",
       "  Customer_Category  Season                   Promotion  \n",
       "0         Homemaker  Winter                        None  \n",
       "1      Professional    Fall      BOGO (Buy One Get One)  \n",
       "2      Professional  Winter                        None  \n",
       "3         Homemaker  Spring                        None  \n",
       "4       Young Adult  Winter  Discount on Selected Items  "
      ]
     },
     "execution_count": 2,
     "metadata": {},
     "output_type": "execute_result"
    }
   ],
   "source": [
    "df.head()"
   ]
  },
  {
   "cell_type": "markdown",
   "id": "80589bf6",
   "metadata": {},
   "source": [
    "## Profile the categorical columns"
   ]
  },
  {
   "cell_type": "code",
   "execution_count": 3,
   "id": "faacdc91",
   "metadata": {},
   "outputs": [
    {
     "data": {
      "text/plain": [
       "Index(['Transaction_ID', 'Date', 'Customer_Name', 'Product', 'Total_Items',\n",
       "       'Total_Cost', 'Payment_Method', 'City', 'Store_Type',\n",
       "       'Discount_Applied', 'Customer_Category', 'Season', 'Promotion'],\n",
       "      dtype='object')"
      ]
     },
     "execution_count": 3,
     "metadata": {},
     "output_type": "execute_result"
    }
   ],
   "source": [
    "df.columns"
   ]
  },
  {
   "cell_type": "code",
   "execution_count": 4,
   "id": "d7b1dedb",
   "metadata": {},
   "outputs": [],
   "source": [
    "category_cols = ['Payment_Method', 'City', 'Store_Type',\\\n",
    "       'Discount_Applied', 'Customer_Category', 'Season', 'Promotion']"
   ]
  },
  {
   "cell_type": "code",
   "execution_count": 5,
   "id": "f9fb265b",
   "metadata": {},
   "outputs": [],
   "source": [
    "df[category_cols] = df[category_cols].astype('category')"
   ]
  },
  {
   "cell_type": "code",
   "execution_count": 6,
   "id": "ad8fd226",
   "metadata": {},
   "outputs": [],
   "source": [
    "df[\"Date\"] = pd.to_datetime(df[\"Date\"])"
   ]
  },
  {
   "cell_type": "code",
   "execution_count": 7,
   "id": "217c5047",
   "metadata": {},
   "outputs": [
    {
     "data": {
      "text/plain": [
       "Transaction_ID                int64\n",
       "Date                 datetime64[ns]\n",
       "Customer_Name                object\n",
       "Product                      object\n",
       "Total_Items                   int64\n",
       "Total_Cost                  float64\n",
       "Payment_Method             category\n",
       "City                       category\n",
       "Store_Type                 category\n",
       "Discount_Applied           category\n",
       "Customer_Category          category\n",
       "Season                     category\n",
       "Promotion                  category\n",
       "dtype: object"
      ]
     },
     "execution_count": 7,
     "metadata": {},
     "output_type": "execute_result"
    }
   ],
   "source": [
    "df.dtypes"
   ]
  },
  {
   "cell_type": "code",
   "execution_count": 8,
   "id": "8e1aee96",
   "metadata": {},
   "outputs": [
    {
     "data": {
      "text/plain": [
       "Senior Citizen    125485\n",
       "Homemaker         125418\n",
       "Teenager          125319\n",
       "Retiree           125072\n",
       "Student           124842\n",
       "Professional      124651\n",
       "Middle-Aged       124636\n",
       "Young Adult       124577\n",
       "Name: Customer_Category, dtype: int64"
      ]
     },
     "execution_count": 8,
     "metadata": {},
     "output_type": "execute_result"
    }
   ],
   "source": [
    "df[\"Customer_Category\"].value_counts()"
   ]
  },
  {
   "cell_type": "code",
   "execution_count": 9,
   "id": "a0840d86",
   "metadata": {},
   "outputs": [
    {
     "data": {
      "text/plain": [
       "Boston           100566\n",
       "Dallas           100559\n",
       "Seattle          100167\n",
       "Chicago          100059\n",
       "Houston          100050\n",
       "New York         100007\n",
       "Los Angeles       99879\n",
       "Miami             99839\n",
       "San Francisco     99808\n",
       "Atlanta           99066\n",
       "Name: City, dtype: int64"
      ]
     },
     "execution_count": 9,
     "metadata": {},
     "output_type": "execute_result"
    }
   ],
   "source": [
    "df[\"City\"].value_counts()"
   ]
  },
  {
   "cell_type": "markdown",
   "id": "d927c7bb",
   "metadata": {},
   "source": [
    "## Observation\n",
    "The counts for each of the metro areas are very similar, the counts for each of the customer categories are very similar, so this dataset was probably synthetically generated."
   ]
  },
  {
   "cell_type": "code",
   "execution_count": 10,
   "id": "c842596c",
   "metadata": {},
   "outputs": [],
   "source": [
    "df[\"Product\"] = df[\"Product\"].apply(eval)"
   ]
  },
  {
   "cell_type": "code",
   "execution_count": 11,
   "id": "490a8cf2",
   "metadata": {},
   "outputs": [],
   "source": [
    "purchase_summ = {}\n",
    "for index, row in df[\"Product\"].items():\n",
    "    for p in row:\n",
    "        if p in purchase_summ:\n",
    "            purchase_summ[p] += 1\n",
    "        else:\n",
    "            purchase_summ[p] = 1\n",
    "        "
   ]
  },
  {
   "cell_type": "markdown",
   "id": "aa4c8931",
   "metadata": {},
   "source": [
    "## Extract the ice cream transactions"
   ]
  },
  {
   "cell_type": "code",
   "execution_count": 12,
   "id": "67f1430b",
   "metadata": {},
   "outputs": [],
   "source": [
    "def is_ice_cream(row):\n",
    "    for p in row:\n",
    "        if p == \"Ice Cream\":\n",
    "            return True\n",
    "    return False\n",
    "df[\"is_ice_cream\"] = df[\"Product\"].apply(is_ice_cream)"
   ]
  },
  {
   "cell_type": "code",
   "execution_count": 13,
   "id": "1eb86cc8",
   "metadata": {},
   "outputs": [],
   "source": [
    "df_ice_cream_trans = df[df[\"is_ice_cream\"]].reset_index()\n",
    "req_cols = [\"Date\"]\n",
    "df_ice_cream_trans = df_ice_cream_trans[req_cols]"
   ]
  },
  {
   "cell_type": "code",
   "execution_count": 14,
   "id": "d0bdafb1",
   "metadata": {},
   "outputs": [],
   "source": [
    "df_ice_cream_trans[\"ice_cream_purchases\"] = 1"
   ]
  },
  {
   "cell_type": "code",
   "execution_count": 15,
   "id": "33dda8e8",
   "metadata": {},
   "outputs": [],
   "source": [
    "df_daily_ice_cream_sales = df_ice_cream_trans.set_index(\"Date\").resample(\"D\").sum()"
   ]
  },
  {
   "cell_type": "code",
   "execution_count": 16,
   "id": "c8483c1a-d98d-4681-9736-dfd332e0d160",
   "metadata": {},
   "outputs": [],
   "source": [
    "df_weekly_max_ice_cream_sales = df_daily_ice_cream_sales.assign(year=df_daily_ice_cream_sales.index.year,\\\n",
    "                                week = df_daily_ice_cream_sales.index.isocalendar().week).groupby(['year','week']).max()"
   ]
  },
  {
   "cell_type": "code",
   "execution_count": 17,
   "id": "2f1b66ef-f3c0-492d-92ca-77dc078a99af",
   "metadata": {},
   "outputs": [],
   "source": [
    "df_weekly_mean_ice_cream_sales = df_daily_ice_cream_sales.assign(year=df_daily_ice_cream_sales.index.year,\\\n",
    "                                week = df_daily_ice_cream_sales.index.isocalendar().week).groupby(['year','week']).mean()"
   ]
  },
  {
   "cell_type": "code",
   "execution_count": 18,
   "id": "b3842449-18d9-4919-8586-16cd998533e0",
   "metadata": {},
   "outputs": [],
   "source": [
    "df_weekly_max_ice_cream_sales = pd.DataFrame(df_weekly_max_ice_cream_sales.to_records()) "
   ]
  },
  {
   "cell_type": "code",
   "execution_count": 19,
   "id": "adab236f-59ac-4ed9-80d9-3170e993c24d",
   "metadata": {},
   "outputs": [
    {
     "data": {
      "text/html": [
       "<div>\n",
       "<style scoped>\n",
       "    .dataframe tbody tr th:only-of-type {\n",
       "        vertical-align: middle;\n",
       "    }\n",
       "\n",
       "    .dataframe tbody tr th {\n",
       "        vertical-align: top;\n",
       "    }\n",
       "\n",
       "    .dataframe thead th {\n",
       "        text-align: right;\n",
       "    }\n",
       "</style>\n",
       "<table border=\"1\" class=\"dataframe\">\n",
       "  <thead>\n",
       "    <tr style=\"text-align: right;\">\n",
       "      <th></th>\n",
       "      <th>year</th>\n",
       "      <th>week</th>\n",
       "      <th>ice_cream_purchases</th>\n",
       "    </tr>\n",
       "  </thead>\n",
       "  <tbody>\n",
       "    <tr>\n",
       "      <th>0</th>\n",
       "      <td>2020</td>\n",
       "      <td>1</td>\n",
       "      <td>23</td>\n",
       "    </tr>\n",
       "    <tr>\n",
       "      <th>1</th>\n",
       "      <td>2020</td>\n",
       "      <td>2</td>\n",
       "      <td>26</td>\n",
       "    </tr>\n",
       "    <tr>\n",
       "      <th>2</th>\n",
       "      <td>2020</td>\n",
       "      <td>3</td>\n",
       "      <td>36</td>\n",
       "    </tr>\n",
       "    <tr>\n",
       "      <th>3</th>\n",
       "      <td>2020</td>\n",
       "      <td>4</td>\n",
       "      <td>31</td>\n",
       "    </tr>\n",
       "    <tr>\n",
       "      <th>4</th>\n",
       "      <td>2020</td>\n",
       "      <td>5</td>\n",
       "      <td>23</td>\n",
       "    </tr>\n",
       "    <tr>\n",
       "      <th>...</th>\n",
       "      <td>...</td>\n",
       "      <td>...</td>\n",
       "      <td>...</td>\n",
       "    </tr>\n",
       "    <tr>\n",
       "      <th>225</th>\n",
       "      <td>2024</td>\n",
       "      <td>16</td>\n",
       "      <td>33</td>\n",
       "    </tr>\n",
       "    <tr>\n",
       "      <th>226</th>\n",
       "      <td>2024</td>\n",
       "      <td>17</td>\n",
       "      <td>32</td>\n",
       "    </tr>\n",
       "    <tr>\n",
       "      <th>227</th>\n",
       "      <td>2024</td>\n",
       "      <td>18</td>\n",
       "      <td>30</td>\n",
       "    </tr>\n",
       "    <tr>\n",
       "      <th>228</th>\n",
       "      <td>2024</td>\n",
       "      <td>19</td>\n",
       "      <td>30</td>\n",
       "    </tr>\n",
       "    <tr>\n",
       "      <th>229</th>\n",
       "      <td>2024</td>\n",
       "      <td>20</td>\n",
       "      <td>30</td>\n",
       "    </tr>\n",
       "  </tbody>\n",
       "</table>\n",
       "<p>230 rows × 3 columns</p>\n",
       "</div>"
      ],
      "text/plain": [
       "     year  week  ice_cream_purchases\n",
       "0    2020     1                   23\n",
       "1    2020     2                   26\n",
       "2    2020     3                   36\n",
       "3    2020     4                   31\n",
       "4    2020     5                   23\n",
       "..    ...   ...                  ...\n",
       "225  2024    16                   33\n",
       "226  2024    17                   32\n",
       "227  2024    18                   30\n",
       "228  2024    19                   30\n",
       "229  2024    20                   30\n",
       "\n",
       "[230 rows x 3 columns]"
      ]
     },
     "execution_count": 19,
     "metadata": {},
     "output_type": "execute_result"
    }
   ],
   "source": [
    "df_weekly_max_ice_cream_sales"
   ]
  },
  {
   "cell_type": "code",
   "execution_count": 20,
   "id": "548a9bf3-c9e3-4ddf-9f00-0fbd2560233f",
   "metadata": {},
   "outputs": [
    {
     "data": {
      "text/html": [
       "<div>\n",
       "<style scoped>\n",
       "    .dataframe tbody tr th:only-of-type {\n",
       "        vertical-align: middle;\n",
       "    }\n",
       "\n",
       "    .dataframe tbody tr th {\n",
       "        vertical-align: top;\n",
       "    }\n",
       "\n",
       "    .dataframe thead th {\n",
       "        text-align: right;\n",
       "    }\n",
       "</style>\n",
       "<table border=\"1\" class=\"dataframe\">\n",
       "  <thead>\n",
       "    <tr style=\"text-align: right;\">\n",
       "      <th></th>\n",
       "      <th></th>\n",
       "      <th>ice_cream_purchases</th>\n",
       "    </tr>\n",
       "    <tr>\n",
       "      <th>year</th>\n",
       "      <th>week</th>\n",
       "      <th></th>\n",
       "    </tr>\n",
       "  </thead>\n",
       "  <tbody>\n",
       "    <tr>\n",
       "      <th rowspan=\"5\" valign=\"top\">2020</th>\n",
       "      <th>1</th>\n",
       "      <td>21.800000</td>\n",
       "    </tr>\n",
       "    <tr>\n",
       "      <th>2</th>\n",
       "      <td>21.857143</td>\n",
       "    </tr>\n",
       "    <tr>\n",
       "      <th>3</th>\n",
       "      <td>26.000000</td>\n",
       "    </tr>\n",
       "    <tr>\n",
       "      <th>4</th>\n",
       "      <td>26.142857</td>\n",
       "    </tr>\n",
       "    <tr>\n",
       "      <th>5</th>\n",
       "      <td>19.571429</td>\n",
       "    </tr>\n",
       "    <tr>\n",
       "      <th>...</th>\n",
       "      <th>...</th>\n",
       "      <td>...</td>\n",
       "    </tr>\n",
       "    <tr>\n",
       "      <th rowspan=\"5\" valign=\"top\">2024</th>\n",
       "      <th>16</th>\n",
       "      <td>21.571429</td>\n",
       "    </tr>\n",
       "    <tr>\n",
       "      <th>17</th>\n",
       "      <td>23.000000</td>\n",
       "    </tr>\n",
       "    <tr>\n",
       "      <th>18</th>\n",
       "      <td>20.857143</td>\n",
       "    </tr>\n",
       "    <tr>\n",
       "      <th>19</th>\n",
       "      <td>23.285714</td>\n",
       "    </tr>\n",
       "    <tr>\n",
       "      <th>20</th>\n",
       "      <td>23.000000</td>\n",
       "    </tr>\n",
       "  </tbody>\n",
       "</table>\n",
       "<p>230 rows × 1 columns</p>\n",
       "</div>"
      ],
      "text/plain": [
       "           ice_cream_purchases\n",
       "year week                     \n",
       "2020 1               21.800000\n",
       "     2               21.857143\n",
       "     3               26.000000\n",
       "     4               26.142857\n",
       "     5               19.571429\n",
       "...                        ...\n",
       "2024 16              21.571429\n",
       "     17              23.000000\n",
       "     18              20.857143\n",
       "     19              23.285714\n",
       "     20              23.000000\n",
       "\n",
       "[230 rows x 1 columns]"
      ]
     },
     "execution_count": 20,
     "metadata": {},
     "output_type": "execute_result"
    }
   ],
   "source": [
    "df_weekly_mean_ice_cream_sales"
   ]
  },
  {
   "cell_type": "markdown",
   "id": "1fac8e70",
   "metadata": {},
   "source": [
    "## Write the extracted files for further analysis"
   ]
  },
  {
   "cell_type": "code",
   "execution_count": 21,
   "id": "c7c924be-404f-4f55-a010-3e984dc46e9a",
   "metadata": {},
   "outputs": [],
   "source": [
    "fpdaily = \"../data/daily_ice_cream_sales.csv\"\n",
    "fpmaxweekly = \"../data/max_weekly_ice_cream_sales.csv\"\n",
    "fpmeanweekly = \"../data/mean_weekly_ice_cream_sales.csv\"\n",
    "df_daily_ice_cream_sales.to_csv(fpdaily, index=True)\n",
    "df_weekly_max_ice_cream_sales.to_csv(fpmaxweekly, index=True)\n",
    "df_weekly_mean_ice_cream_sales.to_csv(fpmeanweekly, index=True)"
   ]
  },
  {
   "cell_type": "code",
   "execution_count": null,
   "id": "af8d18b2-abf4-4f4b-a275-ad122554ba8a",
   "metadata": {},
   "outputs": [],
   "source": []
  }
 ],
 "metadata": {
  "kernelspec": {
   "display_name": "Python 3 (ipykernel)",
   "language": "python",
   "name": "python3"
  },
  "language_info": {
   "codemirror_mode": {
    "name": "ipython",
    "version": 3
   },
   "file_extension": ".py",
   "mimetype": "text/x-python",
   "name": "python",
   "nbconvert_exporter": "python",
   "pygments_lexer": "ipython3",
   "version": "3.9.13"
  }
 },
 "nbformat": 4,
 "nbformat_minor": 5
}
