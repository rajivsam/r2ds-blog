{
 "cells": [
  {
   "cell_type": "markdown",
   "id": "85555956",
   "metadata": {},
   "source": [
    "## Data Preparation Notebook\n",
    "The data for this notebook is from [Kaggle](https://www.kaggle.com/datasets/prasad22/retail-transactions-dataset). The data looks like it is synthetic, the characteristics observed in the dataset also seem to suggest that. The objectives for this notebook are to:\n",
    "\n",
    "1. Understand the attributes in the dataset, thier purpose and range of values\n",
    "2. Understand how transactions are represented\n",
    "3. Extract transactions involving an ice cream purchase \n",
    "4. Aggregate the ice cream transactions at a daily cadence\n",
    "5. Extract the maximum daily sales of ice cream for each week of the analysis period"
   ]
  },
  {
   "cell_type": "code",
   "execution_count": null,
   "id": "5567e874",
   "metadata": {},
   "outputs": [],
   "source": [
    "import pandas as pd\n",
    "fp = \"../data/Retail_Transactions_Dataset.csv\"\n",
    "df = pd.read_csv(fp)"
   ]
  },
  {
   "cell_type": "code",
   "execution_count": null,
   "id": "7e6561c0",
   "metadata": {},
   "outputs": [],
   "source": [
    "df.head()"
   ]
  },
  {
   "cell_type": "markdown",
   "id": "80589bf6",
   "metadata": {},
   "source": [
    "## Profile the categorical columns"
   ]
  },
  {
   "cell_type": "code",
   "execution_count": null,
   "id": "faacdc91",
   "metadata": {},
   "outputs": [],
   "source": [
    "df.columns"
   ]
  },
  {
   "cell_type": "code",
   "execution_count": null,
   "id": "d7b1dedb",
   "metadata": {},
   "outputs": [],
   "source": [
    "category_cols = ['Payment_Method', 'City', 'Store_Type',\\\n",
    "       'Discount_Applied', 'Customer_Category', 'Season', 'Promotion']"
   ]
  },
  {
   "cell_type": "code",
   "execution_count": null,
   "id": "f9fb265b",
   "metadata": {},
   "outputs": [],
   "source": [
    "df[category_cols] = df[category_cols].astype('category')"
   ]
  },
  {
   "cell_type": "code",
   "execution_count": null,
   "id": "ad8fd226",
   "metadata": {},
   "outputs": [],
   "source": [
    "df[\"Date\"] = pd.to_datetime(df[\"Date\"])"
   ]
  },
  {
   "cell_type": "code",
   "execution_count": null,
   "id": "217c5047",
   "metadata": {},
   "outputs": [],
   "source": [
    "df.dtypes"
   ]
  },
  {
   "cell_type": "code",
   "execution_count": null,
   "id": "8e1aee96",
   "metadata": {},
   "outputs": [],
   "source": [
    "df[\"Customer_Category\"].value_counts()"
   ]
  },
  {
   "cell_type": "code",
   "execution_count": null,
   "id": "a0840d86",
   "metadata": {},
   "outputs": [],
   "source": [
    "df[\"City\"].value_counts()"
   ]
  },
  {
   "cell_type": "markdown",
   "id": "d927c7bb",
   "metadata": {},
   "source": [
    "## Observation\n",
    "The counts for each of the metro areas are very similar, the counts for each of the customer categories are very similar, so this dataset was probably synthetically generated."
   ]
  },
  {
   "cell_type": "code",
   "execution_count": null,
   "id": "c842596c",
   "metadata": {},
   "outputs": [],
   "source": [
    "df[\"Product\"] = df[\"Product\"].apply(eval)"
   ]
  },
  {
   "cell_type": "code",
   "execution_count": null,
   "id": "490a8cf2",
   "metadata": {},
   "outputs": [],
   "source": [
    "purchase_summ = {}\n",
    "for index, row in df[\"Product\"].items():\n",
    "    for p in row:\n",
    "        if p in purchase_summ:\n",
    "            purchase_summ[p] += 1\n",
    "        else:\n",
    "            purchase_summ[p] = 1\n",
    "        "
   ]
  },
  {
   "cell_type": "markdown",
   "id": "aa4c8931",
   "metadata": {},
   "source": [
    "## Extract the ice cream transactions"
   ]
  },
  {
   "cell_type": "code",
   "execution_count": null,
   "id": "67f1430b",
   "metadata": {},
   "outputs": [],
   "source": [
    "def is_ice_cream(row):\n",
    "    for p in row:\n",
    "        if p == \"Ice Cream\":\n",
    "            return True\n",
    "    return False\n",
    "df[\"is_ice_cream\"] = df[\"Product\"].apply(is_ice_cream)"
   ]
  },
  {
   "cell_type": "code",
   "execution_count": null,
   "id": "1eb86cc8",
   "metadata": {},
   "outputs": [],
   "source": [
    "df_ice_cream_trans = df[df[\"is_ice_cream\"]].reset_index()\n",
    "req_cols = [\"Date\"]\n",
    "df_ice_cream_trans = df_ice_cream_trans[req_cols]"
   ]
  },
  {
   "cell_type": "code",
   "execution_count": null,
   "id": "d0bdafb1",
   "metadata": {},
   "outputs": [],
   "source": [
    "df_ice_cream_trans[\"ice_cream_purchases\"] = 1"
   ]
  },
  {
   "cell_type": "code",
   "execution_count": null,
   "id": "33dda8e8",
   "metadata": {},
   "outputs": [],
   "source": [
    "df_daily_ice_cream_sales = df_ice_cream_trans.set_index(\"Date\").resample(\"D\").sum()"
   ]
  },
  {
   "cell_type": "code",
   "execution_count": null,
   "id": "c8483c1a-d98d-4681-9736-dfd332e0d160",
   "metadata": {},
   "outputs": [],
   "source": [
    "df_weekly_max_ice_cream_sales = df_daily_ice_cream_sales.assign(year=df_daily_ice_cream_sales.index.year,\\\n",
    "                                week = df_daily_ice_cream_sales.index.isocalendar().week).groupby(['year','week']).max()"
   ]
  },
  {
   "cell_type": "code",
   "execution_count": null,
   "id": "2f1b66ef-f3c0-492d-92ca-77dc078a99af",
   "metadata": {},
   "outputs": [],
   "source": [
    "df_weekly_mean_ice_cream_sales = df_daily_ice_cream_sales.assign(year=df_daily_ice_cream_sales.index.year,\\\n",
    "                                week = df_daily_ice_cream_sales.index.isocalendar().week).groupby(['year','week']).mean()"
   ]
  },
  {
   "cell_type": "code",
   "execution_count": null,
   "id": "b3842449-18d9-4919-8586-16cd998533e0",
   "metadata": {},
   "outputs": [],
   "source": [
    "df_weekly_max_ice_cream_sales = pd.DataFrame(df_weekly_max_ice_cream_sales.to_records()) "
   ]
  },
  {
   "cell_type": "code",
   "execution_count": null,
   "id": "adab236f-59ac-4ed9-80d9-3170e993c24d",
   "metadata": {},
   "outputs": [],
   "source": [
    "df_weekly_max_ice_cream_sales"
   ]
  },
  {
   "cell_type": "code",
   "execution_count": null,
   "id": "548a9bf3-c9e3-4ddf-9f00-0fbd2560233f",
   "metadata": {},
   "outputs": [],
   "source": [
    "df_weekly_mean_ice_cream_sales"
   ]
  },
  {
   "cell_type": "markdown",
   "id": "1fac8e70",
   "metadata": {},
   "source": [
    "## Write the extracted files for further analysis"
   ]
  },
  {
   "cell_type": "code",
   "execution_count": null,
   "id": "c7c924be-404f-4f55-a010-3e984dc46e9a",
   "metadata": {},
   "outputs": [],
   "source": [
    "fpdaily = \"../data/daily_ice_cream_sales.csv\"\n",
    "fpmaxweekly = \"../data/max_weekly_ice_cream_sales.csv\"\n",
    "fpmeanweekly = \"../data/mean_weekly_ice_cream_sales.csv\"\n",
    "df_daily_ice_cream_sales.to_csv(fpdaily, index=True)\n",
    "df_weekly_max_ice_cream_sales.to_csv(fpmaxweekly, index=True)\n",
    "df_weekly_mean_ice_cream_sales.to_csv(fpmeanweekly, index=True)"
   ]
  },
  {
   "cell_type": "code",
   "execution_count": null,
   "id": "af8d18b2-abf4-4f4b-a275-ad122554ba8a",
   "metadata": {},
   "outputs": [],
   "source": []
  }
 ],
 "metadata": {
  "kernelspec": {
   "display_name": "Python 3 (ipykernel)",
   "language": "python",
   "name": "python3"
  },
  "language_info": {
   "codemirror_mode": {
    "name": "ipython",
    "version": 3
   },
   "file_extension": ".py",
   "mimetype": "text/x-python",
   "name": "python",
   "nbconvert_exporter": "python",
   "pygments_lexer": "ipython3",
   "version": "3.9.13"
  }
 },
 "nbformat": 4,
 "nbformat_minor": 5
}
